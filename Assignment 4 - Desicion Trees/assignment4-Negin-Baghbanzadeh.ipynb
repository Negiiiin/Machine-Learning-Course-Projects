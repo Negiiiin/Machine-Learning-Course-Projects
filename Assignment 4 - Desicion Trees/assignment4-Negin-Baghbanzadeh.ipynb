{
 "cells": [
  {
   "cell_type": "markdown",
   "metadata": {
    "colab_type": "text",
    "id": "9OBvBOCkPrga"
   },
   "source": [
    "## Assignment 4\n",
    "#### Negin Baghbanzadeh"
   ]
  },
  {
   "cell_type": "markdown",
   "metadata": {
    "colab_type": "text",
    "id": "bEmSTWZSPrgb"
   },
   "source": [
    "This assignment is based on content discussed in module 8 and using Decision Trees and Ensemble Models in classification and regression problems."
   ]
  },
  {
   "cell_type": "markdown",
   "metadata": {
    "colab_type": "text",
    "id": "1cUoTzQLPrgc"
   },
   "source": [
    "## Learning outcomes "
   ]
  },
  {
   "cell_type": "markdown",
   "metadata": {
    "colab_type": "text",
    "id": "Q1ygYVo_Prgc"
   },
   "source": [
    "- Understand how to use decision trees on a Dataset to make a prediction\n",
    "- Learning hyper-parameters tuning for decision trees by using RandomGrid \n",
    "- Learning the effectiveness of ensemble algorithms (Random Forest, Adaboost, Extra trees classifier, Gradient Boosted Tree)"
   ]
  },
  {
   "cell_type": "markdown",
   "metadata": {
    "colab_type": "text",
    "id": "9hjVbQlVPrgd"
   },
   "source": [
    "In the first part of this assignment, you will use Classification Trees for predicting if a user has a default payment option active or not. You can find the necessary data for performing this assignment [here](https://archive.ics.uci.edu/ml/datasets/default+of+credit+card+clients) \n",
    "\n",
    "This dataset is aimed at the case of customer default payments in Taiwan. From the perspective of risk management, the result of predictive accuracy of the estimated probability of default will be more valuable than the binary result of classification - credible or not credible clients. Because the real probability of default is unknown, this study presented the novel Sorting Smoothing Method to estimate the real probability of default.\n",
    "\n",
    "Required imports for this project are given below. Make sure you have all libraries required for this project installed. You may use conda or pip based on your set up.\n",
    "\n",
    "__NOTE:__ Since data is in Excel format you need to install `xlrd` in order to read the excel file inside your pandas dataframe. You can run `pip install xlrd` to install "
   ]
  },
  {
   "cell_type": "code",
   "execution_count": 1,
   "metadata": {
    "colab": {},
    "colab_type": "code",
    "id": "R376ZBnBPrge"
   },
   "outputs": [],
   "source": [
    "import numpy as np\n",
    "import pandas as pd"
   ]
  },
  {
   "cell_type": "markdown",
   "metadata": {
    "colab_type": "text",
    "id": "ddF9R5pdPrgi"
   },
   "source": [
    "After installing the necessary libraries, proceed to download the data. Since reading the excel file won't create headers by default, we added two more operations to substitute the columns."
   ]
  },
  {
   "cell_type": "code",
   "execution_count": 2,
   "metadata": {
    "colab": {},
    "colab_type": "code",
    "id": "CtNCjjr7Prgj"
   },
   "outputs": [],
   "source": [
    "main_dataset = pd.read_excel(\"https://archive.ics.uci.edu/ml/machine-learning-databases/00350/default%20of%20credit%20card%20clients.xls\")\n",
    "main_dataset.columns = main_dataset.iloc[0]\n",
    "main_dataset.drop(['ID'], axis=1, inplace=True)"
   ]
  },
  {
   "cell_type": "code",
   "execution_count": 3,
   "metadata": {},
   "outputs": [],
   "source": [
    "main_dataset.drop([0], axis=0, inplace=True)"
   ]
  },
  {
   "cell_type": "markdown",
   "metadata": {
    "colab_type": "text",
    "id": "cMh-sEIdPrgl"
   },
   "source": [
    "In the following, you can take a look into the dataset."
   ]
  },
  {
   "cell_type": "code",
   "execution_count": 4,
   "metadata": {
    "colab": {},
    "colab_type": "code",
    "id": "E0lAPOXQPrgl",
    "outputId": "ea66ba57-f32c-4b39-c60a-e52402acbca1"
   },
   "outputs": [
    {
     "data": {
      "text/html": [
       "<div>\n",
       "<style scoped>\n",
       "    .dataframe tbody tr th:only-of-type {\n",
       "        vertical-align: middle;\n",
       "    }\n",
       "\n",
       "    .dataframe tbody tr th {\n",
       "        vertical-align: top;\n",
       "    }\n",
       "\n",
       "    .dataframe thead th {\n",
       "        text-align: right;\n",
       "    }\n",
       "</style>\n",
       "<table border=\"1\" class=\"dataframe\">\n",
       "  <thead>\n",
       "    <tr style=\"text-align: right;\">\n",
       "      <th></th>\n",
       "      <th>LIMIT_BAL</th>\n",
       "      <th>SEX</th>\n",
       "      <th>EDUCATION</th>\n",
       "      <th>MARRIAGE</th>\n",
       "      <th>AGE</th>\n",
       "      <th>PAY_0</th>\n",
       "      <th>PAY_2</th>\n",
       "      <th>PAY_3</th>\n",
       "      <th>PAY_4</th>\n",
       "      <th>PAY_5</th>\n",
       "      <th>...</th>\n",
       "      <th>BILL_AMT4</th>\n",
       "      <th>BILL_AMT5</th>\n",
       "      <th>BILL_AMT6</th>\n",
       "      <th>PAY_AMT1</th>\n",
       "      <th>PAY_AMT2</th>\n",
       "      <th>PAY_AMT3</th>\n",
       "      <th>PAY_AMT4</th>\n",
       "      <th>PAY_AMT5</th>\n",
       "      <th>PAY_AMT6</th>\n",
       "      <th>default payment next month</th>\n",
       "    </tr>\n",
       "  </thead>\n",
       "  <tbody>\n",
       "    <tr>\n",
       "      <th>1</th>\n",
       "      <td>20000</td>\n",
       "      <td>2</td>\n",
       "      <td>2</td>\n",
       "      <td>1</td>\n",
       "      <td>24</td>\n",
       "      <td>2</td>\n",
       "      <td>2</td>\n",
       "      <td>-1</td>\n",
       "      <td>-1</td>\n",
       "      <td>-2</td>\n",
       "      <td>...</td>\n",
       "      <td>0</td>\n",
       "      <td>0</td>\n",
       "      <td>0</td>\n",
       "      <td>0</td>\n",
       "      <td>689</td>\n",
       "      <td>0</td>\n",
       "      <td>0</td>\n",
       "      <td>0</td>\n",
       "      <td>0</td>\n",
       "      <td>1</td>\n",
       "    </tr>\n",
       "    <tr>\n",
       "      <th>2</th>\n",
       "      <td>120000</td>\n",
       "      <td>2</td>\n",
       "      <td>2</td>\n",
       "      <td>2</td>\n",
       "      <td>26</td>\n",
       "      <td>-1</td>\n",
       "      <td>2</td>\n",
       "      <td>0</td>\n",
       "      <td>0</td>\n",
       "      <td>0</td>\n",
       "      <td>...</td>\n",
       "      <td>3272</td>\n",
       "      <td>3455</td>\n",
       "      <td>3261</td>\n",
       "      <td>0</td>\n",
       "      <td>1000</td>\n",
       "      <td>1000</td>\n",
       "      <td>1000</td>\n",
       "      <td>0</td>\n",
       "      <td>2000</td>\n",
       "      <td>1</td>\n",
       "    </tr>\n",
       "    <tr>\n",
       "      <th>3</th>\n",
       "      <td>90000</td>\n",
       "      <td>2</td>\n",
       "      <td>2</td>\n",
       "      <td>2</td>\n",
       "      <td>34</td>\n",
       "      <td>0</td>\n",
       "      <td>0</td>\n",
       "      <td>0</td>\n",
       "      <td>0</td>\n",
       "      <td>0</td>\n",
       "      <td>...</td>\n",
       "      <td>14331</td>\n",
       "      <td>14948</td>\n",
       "      <td>15549</td>\n",
       "      <td>1518</td>\n",
       "      <td>1500</td>\n",
       "      <td>1000</td>\n",
       "      <td>1000</td>\n",
       "      <td>1000</td>\n",
       "      <td>5000</td>\n",
       "      <td>0</td>\n",
       "    </tr>\n",
       "    <tr>\n",
       "      <th>4</th>\n",
       "      <td>50000</td>\n",
       "      <td>2</td>\n",
       "      <td>2</td>\n",
       "      <td>1</td>\n",
       "      <td>37</td>\n",
       "      <td>0</td>\n",
       "      <td>0</td>\n",
       "      <td>0</td>\n",
       "      <td>0</td>\n",
       "      <td>0</td>\n",
       "      <td>...</td>\n",
       "      <td>28314</td>\n",
       "      <td>28959</td>\n",
       "      <td>29547</td>\n",
       "      <td>2000</td>\n",
       "      <td>2019</td>\n",
       "      <td>1200</td>\n",
       "      <td>1100</td>\n",
       "      <td>1069</td>\n",
       "      <td>1000</td>\n",
       "      <td>0</td>\n",
       "    </tr>\n",
       "    <tr>\n",
       "      <th>5</th>\n",
       "      <td>50000</td>\n",
       "      <td>1</td>\n",
       "      <td>2</td>\n",
       "      <td>1</td>\n",
       "      <td>57</td>\n",
       "      <td>-1</td>\n",
       "      <td>0</td>\n",
       "      <td>-1</td>\n",
       "      <td>0</td>\n",
       "      <td>0</td>\n",
       "      <td>...</td>\n",
       "      <td>20940</td>\n",
       "      <td>19146</td>\n",
       "      <td>19131</td>\n",
       "      <td>2000</td>\n",
       "      <td>36681</td>\n",
       "      <td>10000</td>\n",
       "      <td>9000</td>\n",
       "      <td>689</td>\n",
       "      <td>679</td>\n",
       "      <td>0</td>\n",
       "    </tr>\n",
       "  </tbody>\n",
       "</table>\n",
       "<p>5 rows × 24 columns</p>\n",
       "</div>"
      ],
      "text/plain": [
       "0 LIMIT_BAL SEX EDUCATION MARRIAGE AGE PAY_0 PAY_2 PAY_3 PAY_4 PAY_5  ...  \\\n",
       "1     20000   2         2        1  24     2     2    -1    -1    -2  ...   \n",
       "2    120000   2         2        2  26    -1     2     0     0     0  ...   \n",
       "3     90000   2         2        2  34     0     0     0     0     0  ...   \n",
       "4     50000   2         2        1  37     0     0     0     0     0  ...   \n",
       "5     50000   1         2        1  57    -1     0    -1     0     0  ...   \n",
       "\n",
       "0 BILL_AMT4 BILL_AMT5 BILL_AMT6 PAY_AMT1 PAY_AMT2 PAY_AMT3 PAY_AMT4 PAY_AMT5  \\\n",
       "1         0         0         0        0      689        0        0        0   \n",
       "2      3272      3455      3261        0     1000     1000     1000        0   \n",
       "3     14331     14948     15549     1518     1500     1000     1000     1000   \n",
       "4     28314     28959     29547     2000     2019     1200     1100     1069   \n",
       "5     20940     19146     19131     2000    36681    10000     9000      689   \n",
       "\n",
       "0 PAY_AMT6 default payment next month  \n",
       "1        0                          1  \n",
       "2     2000                          1  \n",
       "3     5000                          0  \n",
       "4     1000                          0  \n",
       "5      679                          0  \n",
       "\n",
       "[5 rows x 24 columns]"
      ]
     },
     "execution_count": 4,
     "metadata": {},
     "output_type": "execute_result"
    }
   ],
   "source": [
    "main_dataset.head()"
   ]
  },
  {
   "cell_type": "code",
   "execution_count": 5,
   "metadata": {},
   "outputs": [],
   "source": [
    "dataset = main_dataset.copy()"
   ]
  },
  {
   "cell_type": "markdown",
   "metadata": {
    "colab_type": "text",
    "id": "r4jchSRoPrgr"
   },
   "source": [
    "## Questions (15 points total)\n",
    "\n",
    "#### Question 1 (2 pts)\n",
    "Build a classifier by using decision tree and calculate the confusion matrix. Try different hyper-parameters (at least two) and discuss the result."
   ]
  },
  {
   "cell_type": "code",
   "execution_count": 6,
   "metadata": {},
   "outputs": [],
   "source": [
    "from sklearn.pipeline import Pipeline\n",
    "from sklearn.compose import ColumnTransformer\n",
    "from sklearn.preprocessing import OneHotEncoder"
   ]
  },
  {
   "cell_type": "code",
   "execution_count": 7,
   "metadata": {},
   "outputs": [],
   "source": [
    "import matplotlib.pyplot as plt\n",
    "from scipy import stats\n",
    "from sklearn.tree import DecisionTreeClassifier\n",
    "from IPython.display import SVG\n",
    "from graphviz import Source\n",
    "from sklearn import tree\n",
    "from sklearn.metrics import classification_report, confusion_matrix\n",
    "from sklearn.metrics import roc_auc_score\n",
    "from sklearn.metrics import f1_score\n",
    "from sklearn.metrics import accuracy_score"
   ]
  },
  {
   "cell_type": "code",
   "execution_count": 8,
   "metadata": {},
   "outputs": [],
   "source": [
    "from prettytable import PrettyTable\n",
    "from tabulate import tabulate"
   ]
  },
  {
   "cell_type": "markdown",
   "metadata": {},
   "source": [
    "### Cleaning data"
   ]
  },
  {
   "cell_type": "code",
   "execution_count": 9,
   "metadata": {},
   "outputs": [],
   "source": [
    "columns_categorical = ['SEX', 'EDUCATION', 'MARRIAGE', 'PAY_0', 'PAY_2', 'PAY_3', 'PAY_4', 'PAY_5', 'PAY_6']"
   ]
  },
  {
   "cell_type": "code",
   "execution_count": 10,
   "metadata": {},
   "outputs": [],
   "source": [
    "pays = [\"PAY_0\", \"PAY_2\", \"PAY_3\", \"PAY_4\", \"PAY_5\", \"PAY_6\"]\n",
    "dataset[pays] = dataset[pays].replace(-2.0, np.nan)"
   ]
  },
  {
   "cell_type": "code",
   "execution_count": 11,
   "metadata": {},
   "outputs": [],
   "source": [
    "dataset[\"MARRIAGE\"].replace(0, 3, inplace=True)"
   ]
  },
  {
   "cell_type": "code",
   "execution_count": 12,
   "metadata": {},
   "outputs": [],
   "source": [
    "dataset[\"EDUCATION\"].replace(5, 4, inplace=True)\n",
    "dataset[\"EDUCATION\"].replace(6, 4, inplace=True)"
   ]
  },
  {
   "cell_type": "code",
   "execution_count": 13,
   "metadata": {},
   "outputs": [],
   "source": [
    "dataset.dropna(inplace=True)"
   ]
  },
  {
   "cell_type": "code",
   "execution_count": 14,
   "metadata": {},
   "outputs": [],
   "source": [
    "target_column = \"default payment next month\"\n",
    "y = dataset[target_column]\n",
    "y=y.astype('int')\n",
    "X = dataset[[col for col in dataset.columns if col != target_column]]"
   ]
  },
  {
   "cell_type": "markdown",
   "metadata": {},
   "source": [
    "### Train Test Split"
   ]
  },
  {
   "cell_type": "code",
   "execution_count": 15,
   "metadata": {},
   "outputs": [
    {
     "name": "stdout",
     "output_type": "stream",
     "text": [
      "X_train.shape: (17579, 23)\n",
      "X_test.shape: (5860, 23)\n",
      "y_train.shape: (17579,)\n",
      "y_test.shape: (5860,)\n"
     ]
    }
   ],
   "source": [
    "from sklearn.model_selection import train_test_split\n",
    "X_train, X_test, y_train, y_test = train_test_split(X, y, test_size=0.25, random_state=10086, stratify=y) #stratified sampling based on the target\n",
    "print(f\"X_train.shape: {X_train.shape}\")\n",
    "print(f\"X_test.shape: {X_test.shape}\")\n",
    "print(f\"y_train.shape: {y_train.shape}\")\n",
    "print(f\"y_test.shape: {y_test.shape}\")"
   ]
  },
  {
   "cell_type": "code",
   "execution_count": 16,
   "metadata": {},
   "outputs": [],
   "source": [
    "def check_data_balance(series, style=\"seaborn-pastel\"):\n",
    "    with plt.style.context(style):\n",
    "        unique = series.value_counts()\n",
    "        display(unique) #show unique value counts of the target\n",
    "        plt.pie(unique, explode=[0.05]*len(unique), labels=unique.index, autopct='%1.1f%%');"
   ]
  },
  {
   "cell_type": "code",
   "execution_count": 17,
   "metadata": {},
   "outputs": [
    {
     "data": {
      "text/plain": [
       "0    13540\n",
       "1     4039\n",
       "Name: default payment next month, dtype: int64"
      ]
     },
     "metadata": {},
     "output_type": "display_data"
    },
    {
     "data": {
      "image/png": "[encoded data removed]",
      "text/plain": [
       "<Figure size 432x288 with 1 Axes>"
      ]
     },
     "metadata": {},
     "output_type": "display_data"
    }
   ],
   "source": [
    "check_data_balance(y_train)"
   ]
  },
  {
   "cell_type": "code",
   "execution_count": 18,
   "metadata": {},
   "outputs": [
    {
     "data": {
      "text/plain": [
       "0    4514\n",
       "1    1346\n",
       "Name: default payment next month, dtype: int64"
      ]
     },
     "metadata": {},
     "output_type": "display_data"
    },
    {
     "data": {
      "image/png": "[encoded data removed]",
      "text/plain": [
       "<Figure size 432x288 with 1 Axes>"
      ]
     },
     "metadata": {},
     "output_type": "display_data"
    }
   ],
   "source": [
    "check_data_balance(y_test)"
   ]
  },
  {
   "cell_type": "markdown",
   "metadata": {},
   "source": [
    "As you can see, our dataset is **imbalanced**. So metrics such as **ROC-AUC** or **F11-score** should be used and accuracy can't give us valid imformation about whether our model is having good results or not."
   ]
  },
  {
   "cell_type": "markdown",
   "metadata": {},
   "source": [
    "### Pipelines"
   ]
  },
  {
   "cell_type": "code",
   "execution_count": 19,
   "metadata": {},
   "outputs": [],
   "source": [
    "pipeline_categorical = Pipeline([\n",
    "('onehot', OneHotEncoder(handle_unknown=\"ignore\")),\n",
    "])"
   ]
  },
  {
   "cell_type": "code",
   "execution_count": 20,
   "metadata": {},
   "outputs": [],
   "source": [
    "pipeline_full = ColumnTransformer([\n",
    "(\"categorical\", pipeline_categorical, columns_categorical),\n",
    "])"
   ]
  },
  {
   "cell_type": "markdown",
   "metadata": {},
   "source": [
    "Pipeline is only fitted on train data. Then both train and test data are transformed."
   ]
  },
  {
   "cell_type": "code",
   "execution_count": 21,
   "metadata": {},
   "outputs": [
    {
     "name": "stdout",
     "output_type": "stream",
     "text": [
      "X_train_transformed.shape: (17579, 68)\n",
      "X_test_transformed.shape: (5860, 68)\n"
     ]
    }
   ],
   "source": [
    "pipeline_full.fit(X_train)\n",
    "X_train_transformed = pipeline_full.transform(X_train)\n",
    "X_test_transformed = pipeline_full.transform(X_test)\n",
    "print(f\"X_train_transformed.shape: {X_train_transformed.shape}\")\n",
    "print(f\"X_test_transformed.shape: {X_test_transformed.shape}\")"
   ]
  },
  {
   "cell_type": "markdown",
   "metadata": {},
   "source": [
    "### Tree Classifier"
   ]
  },
  {
   "cell_type": "markdown",
   "metadata": {},
   "source": [
    "**First Decision Tree**"
   ]
  },
  {
   "cell_type": "code",
   "execution_count": 22,
   "metadata": {},
   "outputs": [
    {
     "data": {
      "text/plain": [
       "DecisionTreeClassifier(criterion='entropy', max_depth=2)"
      ]
     },
     "execution_count": 22,
     "metadata": {},
     "output_type": "execute_result"
    }
   ],
   "source": [
    "tree_clf_1 = DecisionTreeClassifier(max_depth=2, criterion='entropy', splitter='best')\n",
    "tree_clf_1.fit(X_train_transformed, y_train)"
   ]
  },
  {
   "cell_type": "code",
   "execution_count": 23,
   "metadata": {},
   "outputs": [],
   "source": [
    "tree_clf_1_predictions = tree_clf_1.predict(X_test_transformed)\n",
    "tree_clf_1_roc_auc = roc_auc_score(y_test, tree_clf_1_predictions)\n",
    "tree_clf_1_f1 = f1_score(y_test, tree_clf_1_predictions)\n",
    "tree_clf_1_accuracy = accuracy_score(y_test, tree_clf_1_predictions)\n",
    "tree_clf_1_confusion_matrix = confusion_matrix(y_test, tree_clf_1_predictions)"
   ]
  },
  {
   "cell_type": "markdown",
   "metadata": {},
   "source": [
    "**Second Decision Tree**"
   ]
  },
  {
   "cell_type": "code",
   "execution_count": 24,
   "metadata": {},
   "outputs": [
    {
     "data": {
      "text/plain": [
       "DecisionTreeClassifier(criterion='entropy', max_depth=10, splitter='random')"
      ]
     },
     "execution_count": 24,
     "metadata": {},
     "output_type": "execute_result"
    }
   ],
   "source": [
    "tree_clf_2 = DecisionTreeClassifier(max_depth=10, criterion='entropy', splitter='random')\n",
    "tree_clf_2.fit(X_train_transformed, y_train)"
   ]
  },
  {
   "cell_type": "code",
   "execution_count": 25,
   "metadata": {},
   "outputs": [],
   "source": [
    "tree_clf_2_predictions = tree_clf_2.predict(X_test_transformed)\n",
    "tree_clf_2_roc_auc = roc_auc_score(y_test, tree_clf_2_predictions)\n",
    "tree_clf_2_f1 = f1_score(y_test, tree_clf_2_predictions)\n",
    "tree_clf_2_accuracy = accuracy_score(y_test, tree_clf_2_predictions)\n",
    "tree_clf_2_confusion_matrix = confusion_matrix(y_test, tree_clf_2_predictions)"
   ]
  },
  {
   "cell_type": "markdown",
   "metadata": {},
   "source": [
    "**Third Decision Tree**"
   ]
  },
  {
   "cell_type": "code",
   "execution_count": 26,
   "metadata": {},
   "outputs": [
    {
     "data": {
      "text/plain": [
       "DecisionTreeClassifier(max_depth=20, splitter='random')"
      ]
     },
     "execution_count": 26,
     "metadata": {},
     "output_type": "execute_result"
    }
   ],
   "source": [
    "tree_clf_3 = DecisionTreeClassifier(max_depth=20, criterion='gini', splitter='random')\n",
    "tree_clf_3.fit(X_train_transformed, y_train)"
   ]
  },
  {
   "cell_type": "code",
   "execution_count": 27,
   "metadata": {},
   "outputs": [],
   "source": [
    "tree_clf_3_predictions = tree_clf_3.predict(X_test_transformed)\n",
    "tree_clf_3_roc_auc = roc_auc_score(y_test, tree_clf_3_predictions)\n",
    "tree_clf_3_f1 = f1_score(y_test, tree_clf_3_predictions)\n",
    "tree_clf_3_accuracy = accuracy_score(y_test, tree_clf_3_predictions)\n",
    "tree_clf_3_confusion_matrix = confusion_matrix(y_test, tree_clf_3_predictions)"
   ]
  },
  {
   "cell_type": "markdown",
   "metadata": {},
   "source": [
    "**Fourth Decision Tree**"
   ]
  },
  {
   "cell_type": "code",
   "execution_count": 28,
   "metadata": {},
   "outputs": [
    {
     "data": {
      "text/plain": [
       "DecisionTreeClassifier(max_depth=10)"
      ]
     },
     "execution_count": 28,
     "metadata": {},
     "output_type": "execute_result"
    }
   ],
   "source": [
    "tree_clf_4 = DecisionTreeClassifier(max_depth=10, criterion='gini', splitter='best')\n",
    "tree_clf_4.fit(X_train_transformed, y_train)"
   ]
  },
  {
   "cell_type": "code",
   "execution_count": 29,
   "metadata": {},
   "outputs": [],
   "source": [
    "tree_clf_4_predictions = tree_clf_4.predict(X_test_transformed)\n",
    "tree_clf_4_roc_auc = roc_auc_score(y_test, tree_clf_4_predictions)\n",
    "tree_clf_4_f1 = f1_score(y_test, tree_clf_4_predictions)\n",
    "tree_clf_4_accuracy = accuracy_score(y_test, tree_clf_4_predictions)\n",
    "tree_clf_4_confusion_matrix = confusion_matrix(y_test, tree_clf_4_predictions)"
   ]
  },
  {
   "cell_type": "markdown",
   "metadata": {},
   "source": [
    "### Decision Trees Testing Results"
   ]
  },
  {
   "cell_type": "code",
   "execution_count": 30,
   "metadata": {},
   "outputs": [
    {
     "name": "stdout",
     "output_type": "stream",
     "text": [
      "+-----------------+-----------------+------------+------------+\n",
      "| Model           |   ROC-AUC Score |   F1 Score |   Accuracy |\n",
      "+=================+=================+============+============+\n",
      "| Decision Tree 1 |        0.637826 |   0.435451 |   0.811945 |\n",
      "+-----------------+-----------------+------------+------------+\n",
      "| Decision Tree 2 |        0.672473 |   0.504155 |   0.816724 |\n",
      "+-----------------+-----------------+------------+------------+\n",
      "| Decision Tree 3 |        0.66191  |   0.483738 |   0.807679 |\n",
      "+-----------------+-----------------+------------+------------+\n",
      "| Decision Tree 4 |        0.668973 |   0.497898 |   0.816553 |\n",
      "+-----------------+-----------------+------------+------------+\n"
     ]
    }
   ],
   "source": [
    "tree_data = [\n",
    "    [\"Decision Tree 1\", tree_clf_1_roc_auc, tree_clf_1_f1, tree_clf_1_accuracy],\n",
    "    [\"Decision Tree 2\", tree_clf_2_roc_auc, tree_clf_2_f1, tree_clf_2_accuracy],\n",
    "    [\"Decision Tree 3\", tree_clf_3_roc_auc, tree_clf_3_f1, tree_clf_3_accuracy],\n",
    "    [\"Decision Tree 4\", tree_clf_4_roc_auc, tree_clf_4_f1, tree_clf_4_accuracy]\n",
    "]\n",
    "\n",
    "head = [\"Model\", \"ROC-AUC Score\", \"F1 Score\", \"Accuracy\"]\n",
    "\n",
    "print(tabulate(tree_data, headers=head, tablefmt=\"grid\"))"
   ]
  },
  {
   "cell_type": "code",
   "execution_count": 31,
   "metadata": {},
   "outputs": [
    {
     "name": "stdout",
     "output_type": "stream",
     "text": [
      "+-----------------+--------------------+\n",
      "| Model           | Confusion Matrix   |\n",
      "+=================+====================+\n",
      "| Decision Tree 1 | [[4333  181]       |\n",
      "|                 |  [ 921  425]]      |\n",
      "+-----------------+--------------------+\n",
      "| Decision Tree 2 | [[4240  274]       |\n",
      "|                 |  [ 800  546]]      |\n",
      "+-----------------+--------------------+\n",
      "| Decision Tree 3 | [[4205  309]       |\n",
      "|                 |  [ 818  528]]      |\n",
      "+-----------------+--------------------+\n",
      "| Decision Tree 4 | [[4252  262]       |\n",
      "|                 |  [ 813  533]]      |\n",
      "+-----------------+--------------------+\n"
     ]
    }
   ],
   "source": [
    "confusion_matrix_data = [\n",
    "    [\"Decision Tree 1\", tree_clf_1_confusion_matrix],\n",
    "    [\"Decision Tree 2\", tree_clf_2_confusion_matrix],\n",
    "    [\"Decision Tree 3\", tree_clf_3_confusion_matrix],\n",
    "    [\"Decision Tree 4\", tree_clf_4_confusion_matrix]\n",
    "]\n",
    "\n",
    "head = [\"Model\", \"Confusion Matrix\"]\n",
    "\n",
    "print(tabulate(confusion_matrix_data, headers=head, tablefmt=\"grid\"))"
   ]
  },
  {
   "cell_type": "markdown",
   "metadata": {},
   "source": [
    "The accuracy in all models, is way more than ROC-AUC and F1-score which is because the data is unbalanced so Accuracy isn't a good method for evaluating the models."
   ]
  },
  {
   "cell_type": "markdown",
   "metadata": {},
   "source": [
    "As you can see in the confusion matrix, all the models, predict the '0' cases better than they predict '1' cases. The ratio of right-predicted-ones to wrong-predicted-ones is way less than the ratio of right-predicted-zeros to wrong-predicted-zeros."
   ]
  },
  {
   "cell_type": "markdown",
   "metadata": {
    "colab_type": "text",
    "id": "QwcecRukPrgw"
   },
   "source": [
    "#### Question 2 (4 pts)\n",
    "\n",
    "Try to build the decision tree which you built for the previous question, but this time by RandomizedSearchCV over hyper-parameters. Compare the results."
   ]
  },
  {
   "cell_type": "code",
   "execution_count": 32,
   "metadata": {},
   "outputs": [],
   "source": [
    "from sklearn.model_selection import RandomizedSearchCV"
   ]
  },
  {
   "cell_type": "code",
   "execution_count": 33,
   "metadata": {},
   "outputs": [],
   "source": [
    "param = {'max_depth': [5, 10, 20, 50, None],\n",
    "         'max_features': [1, 10, 30, X_train_transformed.shape[1]],\n",
    "         'splitter' : ['best', 'random'],\n",
    "         'criterion' : ['gini', 'entropy'],\n",
    "         'min_samples_leaf' : [1, 2, 5],\n",
    "         'min_impurity_decrease' : [0.0, 0.1, 0.5]\n",
    "        }"
   ]
  },
  {
   "cell_type": "code",
   "execution_count": 34,
   "metadata": {},
   "outputs": [],
   "source": [
    "rnd_search_tree = RandomizedSearchCV(DecisionTreeClassifier(), param, cv=9, scoring='f1')\n",
    "rnd_search_tree.fit(X_train_transformed, y_train)\n",
    "rnd_search_tree_best_params = rnd_search_tree.best_params_\n",
    "rnd_search_tree_best_score= rnd_search_tree.best_score_"
   ]
  },
  {
   "cell_type": "code",
   "execution_count": 35,
   "metadata": {},
   "outputs": [],
   "source": [
    "rnd_tree_clf_predictions = rnd_search_tree.predict(X_test_transformed)\n",
    "rnd_tree_clf_roc_auc = roc_auc_score(y_test, rnd_tree_clf_predictions)\n",
    "rnd_tree_clf_f1 = f1_score(y_test, rnd_tree_clf_predictions)\n",
    "rnd_tree_clf_accuracy = accuracy_score(y_test, rnd_tree_clf_predictions)\n",
    "rnd_tree_clf_confusion_matrix = confusion_matrix(y_test, rnd_tree_clf_predictions)"
   ]
  },
  {
   "cell_type": "code",
   "execution_count": 36,
   "metadata": {},
   "outputs": [
    {
     "name": "stdout",
     "output_type": "stream",
     "text": [
      "+----------------------------+-----------------+------------+------------+--------------+--------------------+\n",
      "| RandomizedSearchCV Model   |   ROC-AUC Score |   F1 Score |   Accuracy |   Best Score | Confusion Matrix   |\n",
      "+============================+=================+============+============+==============+====================+\n",
      "| Decision Tree              |        0.660085 |   0.480406 |   0.807679 |     0.480793 | [[4212  302]       |\n",
      "|                            |                 |            |            |              |  [ 825  521]]      |\n",
      "+----------------------------+-----------------+------------+------------+--------------+--------------------+\n"
     ]
    }
   ],
   "source": [
    "tabel_data = [\n",
    "    [\"Decision Tree \", rnd_tree_clf_roc_auc, rnd_tree_clf_f1, rnd_tree_clf_accuracy, rnd_search_tree_best_score, rnd_tree_clf_confusion_matrix]\n",
    "]\n",
    "head = [\"RandomizedSearchCV Model\", \"ROC-AUC Score\", \"F1 Score\", \"Accuracy\", \"Best Score\", \"Confusion Matrix\"]\n",
    "print(tabulate(tabel_data, headers=head, tablefmt=\"grid\"))"
   ]
  },
  {
   "cell_type": "code",
   "execution_count": 37,
   "metadata": {},
   "outputs": [
    {
     "data": {
      "text/plain": [
       "{'splitter': 'best',\n",
       " 'min_samples_leaf': 1,\n",
       " 'min_impurity_decrease': 0.0,\n",
       " 'max_features': 30,\n",
       " 'max_depth': None,\n",
       " 'criterion': 'gini'}"
      ]
     },
     "execution_count": 37,
     "metadata": {},
     "output_type": "execute_result"
    }
   ],
   "source": [
    "rnd_search_tree_best_params"
   ]
  },
  {
   "cell_type": "markdown",
   "metadata": {},
   "source": [
    "The ROC-AUC score and F1-score of the decision tree model built using RandomizedSearchCV, is almost the same as the best decision tree model(second model) that we made changing the hyperparameters in the previous section."
   ]
  },
  {
   "cell_type": "markdown",
   "metadata": {
    "colab_type": "text",
    "id": "dEvsYwiXPrg3"
   },
   "source": [
    "#### Question 3 (6 pts)\n",
    "\n",
    "Try to build the same classifier by using following ensemble models. For each of these models calculate accuracy and at least for two in the list below, plot the learning curves.\n",
    "\n",
    "* Random Forest \n",
    "* AdaBoost\n",
    "* Extra Trees Classifier \n",
    "* Gradient Boosted Trees \n"
   ]
  },
  {
   "cell_type": "code",
   "execution_count": 38,
   "metadata": {},
   "outputs": [],
   "source": [
    "from sklearn.ensemble import RandomForestClassifier\n",
    "from sklearn.ensemble import AdaBoostClassifier\n",
    "from sklearn.ensemble import ExtraTreesClassifier\n",
    "from sklearn.ensemble import GradientBoostingClassifier\n",
    "from sklearn.model_selection import learning_curve"
   ]
  },
  {
   "cell_type": "markdown",
   "metadata": {},
   "source": [
    "Since using all the possible parameters of the classifier in the RandomizedSearchCV could make a lot of possible situations and checking even most of those situations could take a lot of time, only some of the parameters are selected and usend in RandomizedSearchCV."
   ]
  },
  {
   "cell_type": "markdown",
   "metadata": {},
   "source": [
    "### Random Forest"
   ]
  },
  {
   "cell_type": "code",
   "execution_count": 39,
   "metadata": {},
   "outputs": [],
   "source": [
    "rf_params = {'n_estimators' : [2, 10, 50],\n",
    "             'criterion' : ['gini', 'entropy'],\n",
    "             'max_features': [1, 10, 30, X_train_transformed.shape[1]],\n",
    "             'max_depth': [5, 10, 20, None],\n",
    "             'bootstrap': [True, False]\n",
    "            }"
   ]
  },
  {
   "cell_type": "code",
   "execution_count": 40,
   "metadata": {},
   "outputs": [],
   "source": [
    "rf = RandomForestClassifier()\n",
    "rf_random = RandomizedSearchCV(estimator=rf, param_distributions=rf_params, cv=9, scoring='f1')\n",
    "rf_random.fit(X_train_transformed, y_train)\n",
    "rf_random_best_params = rf_random.best_params_\n",
    "rf_random_best_score = rf_random.best_score_\n",
    "rf_random_predictions = rf_random.predict(X_test_transformed)\n",
    "rf_random_roc_auc = roc_auc_score(y_test, rf_random_predictions)\n",
    "rf_random_f1 = f1_score(y_test, rf_random_predictions)\n",
    "rf_random_accuracy = accuracy_score(y_test, rf_random_predictions)\n",
    "rf_random_confusion_matrix = confusion_matrix(y_test, rf_random_predictions)"
   ]
  },
  {
   "cell_type": "code",
   "execution_count": 41,
   "metadata": {},
   "outputs": [],
   "source": [
    "tabel_data.append([\"Random Forest\", rf_random_roc_auc, rf_random_f1, \n",
    "                   rf_random_accuracy, rf_random_best_score, rf_random_confusion_matrix])"
   ]
  },
  {
   "cell_type": "code",
   "execution_count": 42,
   "metadata": {},
   "outputs": [
    {
     "data": {
      "text/plain": [
       "{'n_estimators': 50,\n",
       " 'max_features': 68,\n",
       " 'max_depth': 10,\n",
       " 'criterion': 'entropy',\n",
       " 'bootstrap': False}"
      ]
     },
     "execution_count": 42,
     "metadata": {},
     "output_type": "execute_result"
    }
   ],
   "source": [
    "rf_random_best_params"
   ]
  },
  {
   "cell_type": "code",
   "execution_count": 43,
   "metadata": {},
   "outputs": [],
   "source": [
    "rf_train_sizes, rf_train_scores, rf_test_scores = learning_curve(rf_random, X_train_transformed, y_train, \n",
    "                                                        cv=9, scoring='f1')"
   ]
  },
  {
   "cell_type": "code",
   "execution_count": 44,
   "metadata": {},
   "outputs": [],
   "source": [
    "rf_train_mean = np.mean(rf_train_scores, axis=1)\n",
    "rf_train_std = np.std(rf_train_scores, axis=1)\n",
    "rf_test_mean = np.mean(rf_test_scores, axis=1)\n",
    "rf_test_std = np.std(rf_test_scores, axis=1)"
   ]
  },
  {
   "cell_type": "code",
   "execution_count": 45,
   "metadata": {},
   "outputs": [
    {
     "data": {
      "image/png": "[encoded data removed]",
      "text/plain": [
       "<Figure size 720x720 with 1 Axes>"
      ]
     },
     "metadata": {
      "needs_background": "light"
     },
     "output_type": "display_data"
    }
   ],
   "source": [
    "plt.subplots(1, figsize=(10,10))\n",
    "plt.plot(rf_train_sizes, rf_train_mean, '--', color=\"#111111\",  label=\"Training score\")\n",
    "plt.plot(rf_train_sizes, rf_test_mean, color=\"#111111\", label=\"Cross-validation score\")\n",
    "\n",
    "plt.fill_between(rf_train_sizes, rf_train_mean - rf_train_std, rf_train_mean + rf_train_std, color=\"#DDDDDD\")\n",
    "plt.fill_between(rf_train_sizes, rf_test_mean - rf_test_std, rf_test_mean + rf_test_std, color=\"#DDDDDD\")\n",
    "\n",
    "plt.title(\"Random Forest Learning Curve\")\n",
    "plt.xlabel(\"Training Set Size\"), plt.ylabel(\"F1 Score\"), plt.legend(loc=\"best\")\n",
    "plt.tight_layout()\n",
    "plt.show()"
   ]
  },
  {
   "cell_type": "markdown",
   "metadata": {},
   "source": [
    "### AdaBoost"
   ]
  },
  {
   "cell_type": "code",
   "execution_count": 46,
   "metadata": {},
   "outputs": [],
   "source": [
    "ada_boost_params = {'n_estimators' : [2, 10, 50],\n",
    "                    'learning_rate' : [0.1, 0.5, 1],\n",
    "                    'algorithm' : ['SAMME.R', 'SAMME']\n",
    "                   }"
   ]
  },
  {
   "cell_type": "code",
   "execution_count": 47,
   "metadata": {},
   "outputs": [],
   "source": [
    "ada_boost = AdaBoostClassifier()\n",
    "ada_random = RandomizedSearchCV(estimator = ada_boost, param_distributions=ada_boost_params, cv=9, scoring='f1')\n",
    "ada_random.fit(X_train_transformed, y_train)\n",
    "ada_random_best_params = ada_random.best_params_\n",
    "ada_random_best_score = ada_random.best_score_\n",
    "ada_random_predictions = ada_random.predict(X_test_transformed)\n",
    "ada_random_roc_auc = roc_auc_score(y_test, ada_random_predictions)\n",
    "ada_random_f1 = f1_score(y_test, ada_random_predictions)\n",
    "ada_random_accuracy = accuracy_score(y_test, ada_random_predictions)\n",
    "ada_random_confusion_matrix = confusion_matrix(y_test, ada_random_predictions)"
   ]
  },
  {
   "cell_type": "code",
   "execution_count": 48,
   "metadata": {},
   "outputs": [],
   "source": [
    "tabel_data.append([\"Ada Boost\", ada_random_roc_auc, ada_random_f1, \n",
    "                   ada_random_accuracy, ada_random_best_score, ada_random_confusion_matrix])"
   ]
  },
  {
   "cell_type": "code",
   "execution_count": 49,
   "metadata": {},
   "outputs": [
    {
     "data": {
      "text/plain": [
       "{'n_estimators': 50, 'learning_rate': 1, 'algorithm': 'SAMME.R'}"
      ]
     },
     "execution_count": 49,
     "metadata": {},
     "output_type": "execute_result"
    }
   ],
   "source": [
    "ada_random_best_params"
   ]
  },
  {
   "cell_type": "code",
   "execution_count": 50,
   "metadata": {},
   "outputs": [],
   "source": [
    "ada_train_sizes, ada_train_scores, ada_test_scores = learning_curve(ada_random, X_train_transformed, y_train, \n",
    "                                                        cv=9, scoring='f1')"
   ]
  },
  {
   "cell_type": "code",
   "execution_count": 51,
   "metadata": {},
   "outputs": [],
   "source": [
    "ada_train_mean = np.mean(ada_train_scores, axis=1)\n",
    "ada_train_std = np.std(ada_train_scores, axis=1)\n",
    "ada_test_mean = np.mean(ada_test_scores, axis=1)\n",
    "ada_test_std = np.std(ada_test_scores, axis=1)"
   ]
  },
  {
   "cell_type": "code",
   "execution_count": 52,
   "metadata": {},
   "outputs": [
    {
     "data": {
      "image/png": "[encoded data removed]",
      "text/plain": [
       "<Figure size 720x720 with 1 Axes>"
      ]
     },
     "metadata": {
      "needs_background": "light"
     },
     "output_type": "display_data"
    }
   ],
   "source": [
    "plt.subplots(1, figsize=(10,10))\n",
    "plt.plot(ada_train_sizes, ada_train_mean, '--', color=\"#111111\",  label=\"Training score\")\n",
    "plt.plot(ada_train_sizes, ada_test_mean, color=\"#111111\", label=\"Cross-validation score\")\n",
    "\n",
    "plt.fill_between(ada_train_sizes, ada_train_mean - ada_train_std, ada_train_mean + ada_train_std, color=\"#DDDDDD\")\n",
    "plt.fill_between(ada_train_sizes, ada_test_mean - ada_test_std, ada_test_mean + ada_test_std, color=\"#DDDDDD\")\n",
    "\n",
    "plt.title(\"AdaBoost Learning Curve\")\n",
    "plt.xlabel(\"Training Set Size\"), plt.ylabel(\"F1 Score\"), plt.legend(loc=\"best\")\n",
    "plt.tight_layout()\n",
    "plt.show()"
   ]
  },
  {
   "cell_type": "markdown",
   "metadata": {},
   "source": [
    "### Extra Trees Classifier"
   ]
  },
  {
   "cell_type": "code",
   "execution_count": 53,
   "metadata": {},
   "outputs": [],
   "source": [
    "extra_tree_clf_params = {'n_estimators' : [2, 10, 50],\n",
    "                         'criterion' : ['gini', 'entropy'],\n",
    "                         'max_features': [1, 10, 30, X_train_transformed.shape[1]],\n",
    "                         'max_depth': [5, 10, 20, None],\n",
    "                         'bootstrap': [True, False]\n",
    "                        }"
   ]
  },
  {
   "cell_type": "code",
   "execution_count": 54,
   "metadata": {},
   "outputs": [],
   "source": [
    "extra_tree_clf = ExtraTreesClassifier()\n",
    "extra_tree_clf_random = RandomizedSearchCV(estimator = extra_tree_clf, \n",
    "                                           param_distributions=extra_tree_clf_params, cv=9, scoring='f1')\n",
    "extra_tree_clf_random.fit(X_train_transformed, y_train)\n",
    "extra_tree_clf_random_best_params = ada_random.best_params_\n",
    "extra_tree_clf_random_best_score = ada_random.best_score_\n",
    "extra_tree_clf_random_predictions = ada_random.predict(X_test_transformed)\n",
    "extra_tree_clf_random_roc_auc = roc_auc_score(y_test, extra_tree_clf_random_predictions)\n",
    "extra_tree_clf_random_f1 = f1_score(y_test, extra_tree_clf_random_predictions)\n",
    "extra_tree_clf_random_accuracy = accuracy_score(y_test, extra_tree_clf_random_predictions)\n",
    "extra_tree_clf_random_confusion_matrix = confusion_matrix(y_test, extra_tree_clf_random_predictions)"
   ]
  },
  {
   "cell_type": "code",
   "execution_count": 55,
   "metadata": {},
   "outputs": [],
   "source": [
    "tabel_data.append([\"Extra Tree Classifier\", extra_tree_clf_random_roc_auc, \n",
    "                   extra_tree_clf_random_f1, extra_tree_clf_random_accuracy, \n",
    "                   extra_tree_clf_random_best_score, extra_tree_clf_random_confusion_matrix])"
   ]
  },
  {
   "cell_type": "code",
   "execution_count": 56,
   "metadata": {},
   "outputs": [
    {
     "data": {
      "text/plain": [
       "{'n_estimators': 50, 'learning_rate': 1, 'algorithm': 'SAMME.R'}"
      ]
     },
     "execution_count": 56,
     "metadata": {},
     "output_type": "execute_result"
    }
   ],
   "source": [
    "extra_tree_clf_random_best_params"
   ]
  },
  {
   "cell_type": "markdown",
   "metadata": {},
   "source": [
    "### Gradient Boosted Trees"
   ]
  },
  {
   "cell_type": "code",
   "execution_count": 57,
   "metadata": {},
   "outputs": [],
   "source": [
    "gradient_boosting_clf_params = {'loss' : ['deviance', 'exponential'],\n",
    "                                'learning_rate' : [0.1, 0.5, 1],\n",
    "                                'n_estimators' : [2, 10, 50],\n",
    "                                'criterion' : ['squared_error', 'mse', 'mae'],\n",
    "                                'max_features': [1, 10, 30, X_train_transformed.shape[1]],\n",
    "                                'max_depth': [5, 10, 20, None]\n",
    "                               }"
   ]
  },
  {
   "cell_type": "code",
   "execution_count": 58,
   "metadata": {},
   "outputs": [
    {
     "name": "stderr",
     "output_type": "stream",
     "text": [
      "/Users/Negin/opt/anaconda3/lib/python3.8/site-packages/sklearn/model_selection/_validation.py:610: FitFailedWarning: Estimator fit failed. The score on this train-test partition for these parameters will be set to nan. Details: \n",
      "Traceback (most recent call last):\n",
      "  File \"/Users/Negin/opt/anaconda3/lib/python3.8/site-packages/sklearn/model_selection/_validation.py\", line 593, in _fit_and_score\n",
      "    estimator.fit(X_train, y_train, **fit_params)\n",
      "  File \"/Users/Negin/opt/anaconda3/lib/python3.8/site-packages/sklearn/ensemble/_gb.py\", line 504, in fit\n",
      "    n_stages = self._fit_stages(\n",
      "  File \"/Users/Negin/opt/anaconda3/lib/python3.8/site-packages/sklearn/ensemble/_gb.py\", line 561, in _fit_stages\n",
      "    raw_predictions = self._fit_stage(\n",
      "  File \"/Users/Negin/opt/anaconda3/lib/python3.8/site-packages/sklearn/ensemble/_gb.py\", line 214, in _fit_stage\n",
      "    tree.fit(X, residual, sample_weight=sample_weight,\n",
      "  File \"/Users/Negin/opt/anaconda3/lib/python3.8/site-packages/sklearn/tree/_classes.py\", line 1247, in fit\n",
      "    super().fit(\n",
      "  File \"/Users/Negin/opt/anaconda3/lib/python3.8/site-packages/sklearn/tree/_classes.py\", line 350, in fit\n",
      "    criterion = CRITERIA_REG[self.criterion](self.n_outputs_,\n",
      "KeyError: 'squared_error'\n",
      "\n",
      "  warnings.warn(\"Estimator fit failed. The score on this train-test\"\n",
      "/Users/Negin/opt/anaconda3/lib/python3.8/site-packages/sklearn/model_selection/_validation.py:610: FitFailedWarning: Estimator fit failed. The score on this train-test partition for these parameters will be set to nan. Details: \n",
      "Traceback (most recent call last):\n",
      "  File \"/Users/Negin/opt/anaconda3/lib/python3.8/site-packages/sklearn/model_selection/_validation.py\", line 593, in _fit_and_score\n",
      "    estimator.fit(X_train, y_train, **fit_params)\n",
      "  File \"/Users/Negin/opt/anaconda3/lib/python3.8/site-packages/sklearn/ensemble/_gb.py\", line 504, in fit\n",
      "    n_stages = self._fit_stages(\n",
      "  File \"/Users/Negin/opt/anaconda3/lib/python3.8/site-packages/sklearn/ensemble/_gb.py\", line 561, in _fit_stages\n",
      "    raw_predictions = self._fit_stage(\n",
      "  File \"/Users/Negin/opt/anaconda3/lib/python3.8/site-packages/sklearn/ensemble/_gb.py\", line 214, in _fit_stage\n",
      "    tree.fit(X, residual, sample_weight=sample_weight,\n",
      "  File \"/Users/Negin/opt/anaconda3/lib/python3.8/site-packages/sklearn/tree/_classes.py\", line 1247, in fit\n",
      "    super().fit(\n",
      "  File \"/Users/Negin/opt/anaconda3/lib/python3.8/site-packages/sklearn/tree/_classes.py\", line 350, in fit\n",
      "    criterion = CRITERIA_REG[self.criterion](self.n_outputs_,\n",
      "KeyError: 'squared_error'\n",
      "\n",
      "  warnings.warn(\"Estimator fit failed. The score on this train-test\"\n",
      "/Users/Negin/opt/anaconda3/lib/python3.8/site-packages/sklearn/model_selection/_validation.py:610: FitFailedWarning: Estimator fit failed. The score on this train-test partition for these parameters will be set to nan. Details: \n",
      "Traceback (most recent call last):\n",
      "  File \"/Users/Negin/opt/anaconda3/lib/python3.8/site-packages/sklearn/model_selection/_validation.py\", line 593, in _fit_and_score\n",
      "    estimator.fit(X_train, y_train, **fit_params)\n",
      "  File \"/Users/Negin/opt/anaconda3/lib/python3.8/site-packages/sklearn/ensemble/_gb.py\", line 504, in fit\n",
      "    n_stages = self._fit_stages(\n",
      "  File \"/Users/Negin/opt/anaconda3/lib/python3.8/site-packages/sklearn/ensemble/_gb.py\", line 561, in _fit_stages\n",
      "    raw_predictions = self._fit_stage(\n",
      "  File \"/Users/Negin/opt/anaconda3/lib/python3.8/site-packages/sklearn/ensemble/_gb.py\", line 214, in _fit_stage\n",
      "    tree.fit(X, residual, sample_weight=sample_weight,\n",
      "  File \"/Users/Negin/opt/anaconda3/lib/python3.8/site-packages/sklearn/tree/_classes.py\", line 1247, in fit\n",
      "    super().fit(\n",
      "  File \"/Users/Negin/opt/anaconda3/lib/python3.8/site-packages/sklearn/tree/_classes.py\", line 350, in fit\n",
      "    criterion = CRITERIA_REG[self.criterion](self.n_outputs_,\n",
      "KeyError: 'squared_error'\n",
      "\n",
      "  warnings.warn(\"Estimator fit failed. The score on this train-test\"\n",
      "/Users/Negin/opt/anaconda3/lib/python3.8/site-packages/sklearn/model_selection/_validation.py:610: FitFailedWarning: Estimator fit failed. The score on this train-test partition for these parameters will be set to nan. Details: \n",
      "Traceback (most recent call last):\n",
      "  File \"/Users/Negin/opt/anaconda3/lib/python3.8/site-packages/sklearn/model_selection/_validation.py\", line 593, in _fit_and_score\n",
      "    estimator.fit(X_train, y_train, **fit_params)\n",
      "  File \"/Users/Negin/opt/anaconda3/lib/python3.8/site-packages/sklearn/ensemble/_gb.py\", line 504, in fit\n",
      "    n_stages = self._fit_stages(\n",
      "  File \"/Users/Negin/opt/anaconda3/lib/python3.8/site-packages/sklearn/ensemble/_gb.py\", line 561, in _fit_stages\n",
      "    raw_predictions = self._fit_stage(\n",
      "  File \"/Users/Negin/opt/anaconda3/lib/python3.8/site-packages/sklearn/ensemble/_gb.py\", line 214, in _fit_stage\n",
      "    tree.fit(X, residual, sample_weight=sample_weight,\n",
      "  File \"/Users/Negin/opt/anaconda3/lib/python3.8/site-packages/sklearn/tree/_classes.py\", line 1247, in fit\n",
      "    super().fit(\n",
      "  File \"/Users/Negin/opt/anaconda3/lib/python3.8/site-packages/sklearn/tree/_classes.py\", line 350, in fit\n",
      "    criterion = CRITERIA_REG[self.criterion](self.n_outputs_,\n",
      "KeyError: 'squared_error'\n",
      "\n",
      "  warnings.warn(\"Estimator fit failed. The score on this train-test\"\n",
      "/Users/Negin/opt/anaconda3/lib/python3.8/site-packages/sklearn/model_selection/_validation.py:610: FitFailedWarning: Estimator fit failed. The score on this train-test partition for these parameters will be set to nan. Details: \n",
      "Traceback (most recent call last):\n",
      "  File \"/Users/Negin/opt/anaconda3/lib/python3.8/site-packages/sklearn/model_selection/_validation.py\", line 593, in _fit_and_score\n",
      "    estimator.fit(X_train, y_train, **fit_params)\n",
      "  File \"/Users/Negin/opt/anaconda3/lib/python3.8/site-packages/sklearn/ensemble/_gb.py\", line 504, in fit\n",
      "    n_stages = self._fit_stages(\n",
      "  File \"/Users/Negin/opt/anaconda3/lib/python3.8/site-packages/sklearn/ensemble/_gb.py\", line 561, in _fit_stages\n",
      "    raw_predictions = self._fit_stage(\n",
      "  File \"/Users/Negin/opt/anaconda3/lib/python3.8/site-packages/sklearn/ensemble/_gb.py\", line 214, in _fit_stage\n",
      "    tree.fit(X, residual, sample_weight=sample_weight,\n",
      "  File \"/Users/Negin/opt/anaconda3/lib/python3.8/site-packages/sklearn/tree/_classes.py\", line 1247, in fit\n",
      "    super().fit(\n",
      "  File \"/Users/Negin/opt/anaconda3/lib/python3.8/site-packages/sklearn/tree/_classes.py\", line 350, in fit\n",
      "    criterion = CRITERIA_REG[self.criterion](self.n_outputs_,\n",
      "KeyError: 'squared_error'\n",
      "\n",
      "  warnings.warn(\"Estimator fit failed. The score on this train-test\"\n",
      "/Users/Negin/opt/anaconda3/lib/python3.8/site-packages/sklearn/model_selection/_validation.py:610: FitFailedWarning: Estimator fit failed. The score on this train-test partition for these parameters will be set to nan. Details: \n",
      "Traceback (most recent call last):\n",
      "  File \"/Users/Negin/opt/anaconda3/lib/python3.8/site-packages/sklearn/model_selection/_validation.py\", line 593, in _fit_and_score\n",
      "    estimator.fit(X_train, y_train, **fit_params)\n",
      "  File \"/Users/Negin/opt/anaconda3/lib/python3.8/site-packages/sklearn/ensemble/_gb.py\", line 504, in fit\n",
      "    n_stages = self._fit_stages(\n",
      "  File \"/Users/Negin/opt/anaconda3/lib/python3.8/site-packages/sklearn/ensemble/_gb.py\", line 561, in _fit_stages\n",
      "    raw_predictions = self._fit_stage(\n",
      "  File \"/Users/Negin/opt/anaconda3/lib/python3.8/site-packages/sklearn/ensemble/_gb.py\", line 214, in _fit_stage\n",
      "    tree.fit(X, residual, sample_weight=sample_weight,\n",
      "  File \"/Users/Negin/opt/anaconda3/lib/python3.8/site-packages/sklearn/tree/_classes.py\", line 1247, in fit\n",
      "    super().fit(\n",
      "  File \"/Users/Negin/opt/anaconda3/lib/python3.8/site-packages/sklearn/tree/_classes.py\", line 350, in fit\n",
      "    criterion = CRITERIA_REG[self.criterion](self.n_outputs_,\n",
      "KeyError: 'squared_error'\n",
      "\n",
      "  warnings.warn(\"Estimator fit failed. The score on this train-test\"\n",
      "/Users/Negin/opt/anaconda3/lib/python3.8/site-packages/sklearn/model_selection/_validation.py:610: FitFailedWarning: Estimator fit failed. The score on this train-test partition for these parameters will be set to nan. Details: \n",
      "Traceback (most recent call last):\n",
      "  File \"/Users/Negin/opt/anaconda3/lib/python3.8/site-packages/sklearn/model_selection/_validation.py\", line 593, in _fit_and_score\n",
      "    estimator.fit(X_train, y_train, **fit_params)\n",
      "  File \"/Users/Negin/opt/anaconda3/lib/python3.8/site-packages/sklearn/ensemble/_gb.py\", line 504, in fit\n",
      "    n_stages = self._fit_stages(\n",
      "  File \"/Users/Negin/opt/anaconda3/lib/python3.8/site-packages/sklearn/ensemble/_gb.py\", line 561, in _fit_stages\n",
      "    raw_predictions = self._fit_stage(\n",
      "  File \"/Users/Negin/opt/anaconda3/lib/python3.8/site-packages/sklearn/ensemble/_gb.py\", line 214, in _fit_stage\n",
      "    tree.fit(X, residual, sample_weight=sample_weight,\n",
      "  File \"/Users/Negin/opt/anaconda3/lib/python3.8/site-packages/sklearn/tree/_classes.py\", line 1247, in fit\n",
      "    super().fit(\n",
      "  File \"/Users/Negin/opt/anaconda3/lib/python3.8/site-packages/sklearn/tree/_classes.py\", line 350, in fit\n",
      "    criterion = CRITERIA_REG[self.criterion](self.n_outputs_,\n",
      "KeyError: 'squared_error'\n",
      "\n",
      "  warnings.warn(\"Estimator fit failed. The score on this train-test\"\n",
      "/Users/Negin/opt/anaconda3/lib/python3.8/site-packages/sklearn/model_selection/_validation.py:610: FitFailedWarning: Estimator fit failed. The score on this train-test partition for these parameters will be set to nan. Details: \n",
      "Traceback (most recent call last):\n",
      "  File \"/Users/Negin/opt/anaconda3/lib/python3.8/site-packages/sklearn/model_selection/_validation.py\", line 593, in _fit_and_score\n",
      "    estimator.fit(X_train, y_train, **fit_params)\n",
      "  File \"/Users/Negin/opt/anaconda3/lib/python3.8/site-packages/sklearn/ensemble/_gb.py\", line 504, in fit\n",
      "    n_stages = self._fit_stages(\n",
      "  File \"/Users/Negin/opt/anaconda3/lib/python3.8/site-packages/sklearn/ensemble/_gb.py\", line 561, in _fit_stages\n",
      "    raw_predictions = self._fit_stage(\n",
      "  File \"/Users/Negin/opt/anaconda3/lib/python3.8/site-packages/sklearn/ensemble/_gb.py\", line 214, in _fit_stage\n",
      "    tree.fit(X, residual, sample_weight=sample_weight,\n",
      "  File \"/Users/Negin/opt/anaconda3/lib/python3.8/site-packages/sklearn/tree/_classes.py\", line 1247, in fit\n",
      "    super().fit(\n",
      "  File \"/Users/Negin/opt/anaconda3/lib/python3.8/site-packages/sklearn/tree/_classes.py\", line 350, in fit\n",
      "    criterion = CRITERIA_REG[self.criterion](self.n_outputs_,\n",
      "KeyError: 'squared_error'\n",
      "\n",
      "  warnings.warn(\"Estimator fit failed. The score on this train-test\"\n",
      "/Users/Negin/opt/anaconda3/lib/python3.8/site-packages/sklearn/model_selection/_validation.py:610: FitFailedWarning: Estimator fit failed. The score on this train-test partition for these parameters will be set to nan. Details: \n",
      "Traceback (most recent call last):\n",
      "  File \"/Users/Negin/opt/anaconda3/lib/python3.8/site-packages/sklearn/model_selection/_validation.py\", line 593, in _fit_and_score\n",
      "    estimator.fit(X_train, y_train, **fit_params)\n",
      "  File \"/Users/Negin/opt/anaconda3/lib/python3.8/site-packages/sklearn/ensemble/_gb.py\", line 504, in fit\n",
      "    n_stages = self._fit_stages(\n",
      "  File \"/Users/Negin/opt/anaconda3/lib/python3.8/site-packages/sklearn/ensemble/_gb.py\", line 561, in _fit_stages\n",
      "    raw_predictions = self._fit_stage(\n",
      "  File \"/Users/Negin/opt/anaconda3/lib/python3.8/site-packages/sklearn/ensemble/_gb.py\", line 214, in _fit_stage\n",
      "    tree.fit(X, residual, sample_weight=sample_weight,\n",
      "  File \"/Users/Negin/opt/anaconda3/lib/python3.8/site-packages/sklearn/tree/_classes.py\", line 1247, in fit\n",
      "    super().fit(\n",
      "  File \"/Users/Negin/opt/anaconda3/lib/python3.8/site-packages/sklearn/tree/_classes.py\", line 350, in fit\n",
      "    criterion = CRITERIA_REG[self.criterion](self.n_outputs_,\n",
      "KeyError: 'squared_error'\n",
      "\n",
      "  warnings.warn(\"Estimator fit failed. The score on this train-test\"\n",
      "/Users/Negin/opt/anaconda3/lib/python3.8/site-packages/sklearn/model_selection/_validation.py:610: FitFailedWarning: Estimator fit failed. The score on this train-test partition for these parameters will be set to nan. Details: \n",
      "Traceback (most recent call last):\n",
      "  File \"/Users/Negin/opt/anaconda3/lib/python3.8/site-packages/sklearn/model_selection/_validation.py\", line 593, in _fit_and_score\n",
      "    estimator.fit(X_train, y_train, **fit_params)\n",
      "  File \"/Users/Negin/opt/anaconda3/lib/python3.8/site-packages/sklearn/ensemble/_gb.py\", line 504, in fit\n",
      "    n_stages = self._fit_stages(\n",
      "  File \"/Users/Negin/opt/anaconda3/lib/python3.8/site-packages/sklearn/ensemble/_gb.py\", line 561, in _fit_stages\n",
      "    raw_predictions = self._fit_stage(\n",
      "  File \"/Users/Negin/opt/anaconda3/lib/python3.8/site-packages/sklearn/ensemble/_gb.py\", line 214, in _fit_stage\n",
      "    tree.fit(X, residual, sample_weight=sample_weight,\n",
      "  File \"/Users/Negin/opt/anaconda3/lib/python3.8/site-packages/sklearn/tree/_classes.py\", line 1247, in fit\n",
      "    super().fit(\n",
      "  File \"/Users/Negin/opt/anaconda3/lib/python3.8/site-packages/sklearn/tree/_classes.py\", line 350, in fit\n",
      "    criterion = CRITERIA_REG[self.criterion](self.n_outputs_,\n",
      "KeyError: 'squared_error'\n",
      "\n",
      "  warnings.warn(\"Estimator fit failed. The score on this train-test\"\n",
      "/Users/Negin/opt/anaconda3/lib/python3.8/site-packages/sklearn/model_selection/_validation.py:610: FitFailedWarning: Estimator fit failed. The score on this train-test partition for these parameters will be set to nan. Details: \n",
      "Traceback (most recent call last):\n",
      "  File \"/Users/Negin/opt/anaconda3/lib/python3.8/site-packages/sklearn/model_selection/_validation.py\", line 593, in _fit_and_score\n",
      "    estimator.fit(X_train, y_train, **fit_params)\n",
      "  File \"/Users/Negin/opt/anaconda3/lib/python3.8/site-packages/sklearn/ensemble/_gb.py\", line 504, in fit\n",
      "    n_stages = self._fit_stages(\n",
      "  File \"/Users/Negin/opt/anaconda3/lib/python3.8/site-packages/sklearn/ensemble/_gb.py\", line 561, in _fit_stages\n",
      "    raw_predictions = self._fit_stage(\n",
      "  File \"/Users/Negin/opt/anaconda3/lib/python3.8/site-packages/sklearn/ensemble/_gb.py\", line 214, in _fit_stage\n",
      "    tree.fit(X, residual, sample_weight=sample_weight,\n",
      "  File \"/Users/Negin/opt/anaconda3/lib/python3.8/site-packages/sklearn/tree/_classes.py\", line 1247, in fit\n",
      "    super().fit(\n",
      "  File \"/Users/Negin/opt/anaconda3/lib/python3.8/site-packages/sklearn/tree/_classes.py\", line 350, in fit\n",
      "    criterion = CRITERIA_REG[self.criterion](self.n_outputs_,\n",
      "KeyError: 'squared_error'\n",
      "\n",
      "  warnings.warn(\"Estimator fit failed. The score on this train-test\"\n",
      "/Users/Negin/opt/anaconda3/lib/python3.8/site-packages/sklearn/model_selection/_validation.py:610: FitFailedWarning: Estimator fit failed. The score on this train-test partition for these parameters will be set to nan. Details: \n",
      "Traceback (most recent call last):\n",
      "  File \"/Users/Negin/opt/anaconda3/lib/python3.8/site-packages/sklearn/model_selection/_validation.py\", line 593, in _fit_and_score\n",
      "    estimator.fit(X_train, y_train, **fit_params)\n",
      "  File \"/Users/Negin/opt/anaconda3/lib/python3.8/site-packages/sklearn/ensemble/_gb.py\", line 504, in fit\n",
      "    n_stages = self._fit_stages(\n",
      "  File \"/Users/Negin/opt/anaconda3/lib/python3.8/site-packages/sklearn/ensemble/_gb.py\", line 561, in _fit_stages\n",
      "    raw_predictions = self._fit_stage(\n",
      "  File \"/Users/Negin/opt/anaconda3/lib/python3.8/site-packages/sklearn/ensemble/_gb.py\", line 214, in _fit_stage\n",
      "    tree.fit(X, residual, sample_weight=sample_weight,\n",
      "  File \"/Users/Negin/opt/anaconda3/lib/python3.8/site-packages/sklearn/tree/_classes.py\", line 1247, in fit\n",
      "    super().fit(\n",
      "  File \"/Users/Negin/opt/anaconda3/lib/python3.8/site-packages/sklearn/tree/_classes.py\", line 350, in fit\n",
      "    criterion = CRITERIA_REG[self.criterion](self.n_outputs_,\n",
      "KeyError: 'squared_error'\n",
      "\n",
      "  warnings.warn(\"Estimator fit failed. The score on this train-test\"\n",
      "/Users/Negin/opt/anaconda3/lib/python3.8/site-packages/sklearn/model_selection/_validation.py:610: FitFailedWarning: Estimator fit failed. The score on this train-test partition for these parameters will be set to nan. Details: \n",
      "Traceback (most recent call last):\n",
      "  File \"/Users/Negin/opt/anaconda3/lib/python3.8/site-packages/sklearn/model_selection/_validation.py\", line 593, in _fit_and_score\n",
      "    estimator.fit(X_train, y_train, **fit_params)\n",
      "  File \"/Users/Negin/opt/anaconda3/lib/python3.8/site-packages/sklearn/ensemble/_gb.py\", line 504, in fit\n",
      "    n_stages = self._fit_stages(\n",
      "  File \"/Users/Negin/opt/anaconda3/lib/python3.8/site-packages/sklearn/ensemble/_gb.py\", line 561, in _fit_stages\n",
      "    raw_predictions = self._fit_stage(\n",
      "  File \"/Users/Negin/opt/anaconda3/lib/python3.8/site-packages/sklearn/ensemble/_gb.py\", line 214, in _fit_stage\n",
      "    tree.fit(X, residual, sample_weight=sample_weight,\n",
      "  File \"/Users/Negin/opt/anaconda3/lib/python3.8/site-packages/sklearn/tree/_classes.py\", line 1247, in fit\n",
      "    super().fit(\n",
      "  File \"/Users/Negin/opt/anaconda3/lib/python3.8/site-packages/sklearn/tree/_classes.py\", line 350, in fit\n",
      "    criterion = CRITERIA_REG[self.criterion](self.n_outputs_,\n",
      "KeyError: 'squared_error'\n",
      "\n",
      "  warnings.warn(\"Estimator fit failed. The score on this train-test\"\n",
      "/Users/Negin/opt/anaconda3/lib/python3.8/site-packages/sklearn/model_selection/_validation.py:610: FitFailedWarning: Estimator fit failed. The score on this train-test partition for these parameters will be set to nan. Details: \n",
      "Traceback (most recent call last):\n",
      "  File \"/Users/Negin/opt/anaconda3/lib/python3.8/site-packages/sklearn/model_selection/_validation.py\", line 593, in _fit_and_score\n",
      "    estimator.fit(X_train, y_train, **fit_params)\n",
      "  File \"/Users/Negin/opt/anaconda3/lib/python3.8/site-packages/sklearn/ensemble/_gb.py\", line 504, in fit\n",
      "    n_stages = self._fit_stages(\n",
      "  File \"/Users/Negin/opt/anaconda3/lib/python3.8/site-packages/sklearn/ensemble/_gb.py\", line 561, in _fit_stages\n",
      "    raw_predictions = self._fit_stage(\n",
      "  File \"/Users/Negin/opt/anaconda3/lib/python3.8/site-packages/sklearn/ensemble/_gb.py\", line 214, in _fit_stage\n",
      "    tree.fit(X, residual, sample_weight=sample_weight,\n",
      "  File \"/Users/Negin/opt/anaconda3/lib/python3.8/site-packages/sklearn/tree/_classes.py\", line 1247, in fit\n",
      "    super().fit(\n",
      "  File \"/Users/Negin/opt/anaconda3/lib/python3.8/site-packages/sklearn/tree/_classes.py\", line 350, in fit\n",
      "    criterion = CRITERIA_REG[self.criterion](self.n_outputs_,\n",
      "KeyError: 'squared_error'\n",
      "\n",
      "  warnings.warn(\"Estimator fit failed. The score on this train-test\"\n",
      "/Users/Negin/opt/anaconda3/lib/python3.8/site-packages/sklearn/model_selection/_validation.py:610: FitFailedWarning: Estimator fit failed. The score on this train-test partition for these parameters will be set to nan. Details: \n",
      "Traceback (most recent call last):\n",
      "  File \"/Users/Negin/opt/anaconda3/lib/python3.8/site-packages/sklearn/model_selection/_validation.py\", line 593, in _fit_and_score\n",
      "    estimator.fit(X_train, y_train, **fit_params)\n",
      "  File \"/Users/Negin/opt/anaconda3/lib/python3.8/site-packages/sklearn/ensemble/_gb.py\", line 504, in fit\n",
      "    n_stages = self._fit_stages(\n",
      "  File \"/Users/Negin/opt/anaconda3/lib/python3.8/site-packages/sklearn/ensemble/_gb.py\", line 561, in _fit_stages\n",
      "    raw_predictions = self._fit_stage(\n",
      "  File \"/Users/Negin/opt/anaconda3/lib/python3.8/site-packages/sklearn/ensemble/_gb.py\", line 214, in _fit_stage\n",
      "    tree.fit(X, residual, sample_weight=sample_weight,\n",
      "  File \"/Users/Negin/opt/anaconda3/lib/python3.8/site-packages/sklearn/tree/_classes.py\", line 1247, in fit\n",
      "    super().fit(\n",
      "  File \"/Users/Negin/opt/anaconda3/lib/python3.8/site-packages/sklearn/tree/_classes.py\", line 350, in fit\n",
      "    criterion = CRITERIA_REG[self.criterion](self.n_outputs_,\n",
      "KeyError: 'squared_error'\n",
      "\n",
      "  warnings.warn(\"Estimator fit failed. The score on this train-test\"\n",
      "/Users/Negin/opt/anaconda3/lib/python3.8/site-packages/sklearn/model_selection/_validation.py:610: FitFailedWarning: Estimator fit failed. The score on this train-test partition for these parameters will be set to nan. Details: \n",
      "Traceback (most recent call last):\n",
      "  File \"/Users/Negin/opt/anaconda3/lib/python3.8/site-packages/sklearn/model_selection/_validation.py\", line 593, in _fit_and_score\n",
      "    estimator.fit(X_train, y_train, **fit_params)\n",
      "  File \"/Users/Negin/opt/anaconda3/lib/python3.8/site-packages/sklearn/ensemble/_gb.py\", line 504, in fit\n",
      "    n_stages = self._fit_stages(\n",
      "  File \"/Users/Negin/opt/anaconda3/lib/python3.8/site-packages/sklearn/ensemble/_gb.py\", line 561, in _fit_stages\n",
      "    raw_predictions = self._fit_stage(\n",
      "  File \"/Users/Negin/opt/anaconda3/lib/python3.8/site-packages/sklearn/ensemble/_gb.py\", line 214, in _fit_stage\n",
      "    tree.fit(X, residual, sample_weight=sample_weight,\n",
      "  File \"/Users/Negin/opt/anaconda3/lib/python3.8/site-packages/sklearn/tree/_classes.py\", line 1247, in fit\n",
      "    super().fit(\n",
      "  File \"/Users/Negin/opt/anaconda3/lib/python3.8/site-packages/sklearn/tree/_classes.py\", line 350, in fit\n",
      "    criterion = CRITERIA_REG[self.criterion](self.n_outputs_,\n",
      "KeyError: 'squared_error'\n",
      "\n",
      "  warnings.warn(\"Estimator fit failed. The score on this train-test\"\n",
      "/Users/Negin/opt/anaconda3/lib/python3.8/site-packages/sklearn/model_selection/_validation.py:610: FitFailedWarning: Estimator fit failed. The score on this train-test partition for these parameters will be set to nan. Details: \n",
      "Traceback (most recent call last):\n",
      "  File \"/Users/Negin/opt/anaconda3/lib/python3.8/site-packages/sklearn/model_selection/_validation.py\", line 593, in _fit_and_score\n",
      "    estimator.fit(X_train, y_train, **fit_params)\n",
      "  File \"/Users/Negin/opt/anaconda3/lib/python3.8/site-packages/sklearn/ensemble/_gb.py\", line 504, in fit\n",
      "    n_stages = self._fit_stages(\n",
      "  File \"/Users/Negin/opt/anaconda3/lib/python3.8/site-packages/sklearn/ensemble/_gb.py\", line 561, in _fit_stages\n",
      "    raw_predictions = self._fit_stage(\n",
      "  File \"/Users/Negin/opt/anaconda3/lib/python3.8/site-packages/sklearn/ensemble/_gb.py\", line 214, in _fit_stage\n",
      "    tree.fit(X, residual, sample_weight=sample_weight,\n",
      "  File \"/Users/Negin/opt/anaconda3/lib/python3.8/site-packages/sklearn/tree/_classes.py\", line 1247, in fit\n",
      "    super().fit(\n",
      "  File \"/Users/Negin/opt/anaconda3/lib/python3.8/site-packages/sklearn/tree/_classes.py\", line 350, in fit\n",
      "    criterion = CRITERIA_REG[self.criterion](self.n_outputs_,\n",
      "KeyError: 'squared_error'\n",
      "\n",
      "  warnings.warn(\"Estimator fit failed. The score on this train-test\"\n",
      "/Users/Negin/opt/anaconda3/lib/python3.8/site-packages/sklearn/model_selection/_validation.py:610: FitFailedWarning: Estimator fit failed. The score on this train-test partition for these parameters will be set to nan. Details: \n",
      "Traceback (most recent call last):\n",
      "  File \"/Users/Negin/opt/anaconda3/lib/python3.8/site-packages/sklearn/model_selection/_validation.py\", line 593, in _fit_and_score\n",
      "    estimator.fit(X_train, y_train, **fit_params)\n",
      "  File \"/Users/Negin/opt/anaconda3/lib/python3.8/site-packages/sklearn/ensemble/_gb.py\", line 504, in fit\n",
      "    n_stages = self._fit_stages(\n",
      "  File \"/Users/Negin/opt/anaconda3/lib/python3.8/site-packages/sklearn/ensemble/_gb.py\", line 561, in _fit_stages\n",
      "    raw_predictions = self._fit_stage(\n",
      "  File \"/Users/Negin/opt/anaconda3/lib/python3.8/site-packages/sklearn/ensemble/_gb.py\", line 214, in _fit_stage\n",
      "    tree.fit(X, residual, sample_weight=sample_weight,\n",
      "  File \"/Users/Negin/opt/anaconda3/lib/python3.8/site-packages/sklearn/tree/_classes.py\", line 1247, in fit\n",
      "    super().fit(\n",
      "  File \"/Users/Negin/opt/anaconda3/lib/python3.8/site-packages/sklearn/tree/_classes.py\", line 350, in fit\n",
      "    criterion = CRITERIA_REG[self.criterion](self.n_outputs_,\n",
      "KeyError: 'squared_error'\n",
      "\n",
      "  warnings.warn(\"Estimator fit failed. The score on this train-test\"\n"
     ]
    },
    {
     "name": "stderr",
     "output_type": "stream",
     "text": [
      "/Users/Negin/opt/anaconda3/lib/python3.8/site-packages/sklearn/ensemble/_gb.py:1118: FutureWarning: criterion='mae' was deprecated in version 0.24 and will be removed in version 1.1 (renaming of 0.26). Use criterion='friedman_mse' or 'mse' instead, as trees should use a least-square criterion in Gradient Boosting.\n",
      "  warnings.warn(\"criterion='mae' was deprecated in version 0.24 and \"\n",
      "/Users/Negin/opt/anaconda3/lib/python3.8/site-packages/sklearn/ensemble/_gb.py:1118: FutureWarning: criterion='mae' was deprecated in version 0.24 and will be removed in version 1.1 (renaming of 0.26). Use criterion='friedman_mse' or 'mse' instead, as trees should use a least-square criterion in Gradient Boosting.\n",
      "  warnings.warn(\"criterion='mae' was deprecated in version 0.24 and \"\n",
      "/Users/Negin/opt/anaconda3/lib/python3.8/site-packages/sklearn/ensemble/_gb.py:1118: FutureWarning: criterion='mae' was deprecated in version 0.24 and will be removed in version 1.1 (renaming of 0.26). Use criterion='friedman_mse' or 'mse' instead, as trees should use a least-square criterion in Gradient Boosting.\n",
      "  warnings.warn(\"criterion='mae' was deprecated in version 0.24 and \"\n",
      "/Users/Negin/opt/anaconda3/lib/python3.8/site-packages/sklearn/ensemble/_gb.py:1118: FutureWarning: criterion='mae' was deprecated in version 0.24 and will be removed in version 1.1 (renaming of 0.26). Use criterion='friedman_mse' or 'mse' instead, as trees should use a least-square criterion in Gradient Boosting.\n",
      "  warnings.warn(\"criterion='mae' was deprecated in version 0.24 and \"\n",
      "/Users/Negin/opt/anaconda3/lib/python3.8/site-packages/sklearn/ensemble/_gb.py:1118: FutureWarning: criterion='mae' was deprecated in version 0.24 and will be removed in version 1.1 (renaming of 0.26). Use criterion='friedman_mse' or 'mse' instead, as trees should use a least-square criterion in Gradient Boosting.\n",
      "  warnings.warn(\"criterion='mae' was deprecated in version 0.24 and \"\n",
      "/Users/Negin/opt/anaconda3/lib/python3.8/site-packages/sklearn/ensemble/_gb.py:1118: FutureWarning: criterion='mae' was deprecated in version 0.24 and will be removed in version 1.1 (renaming of 0.26). Use criterion='friedman_mse' or 'mse' instead, as trees should use a least-square criterion in Gradient Boosting.\n",
      "  warnings.warn(\"criterion='mae' was deprecated in version 0.24 and \"\n",
      "/Users/Negin/opt/anaconda3/lib/python3.8/site-packages/sklearn/ensemble/_gb.py:1118: FutureWarning: criterion='mae' was deprecated in version 0.24 and will be removed in version 1.1 (renaming of 0.26). Use criterion='friedman_mse' or 'mse' instead, as trees should use a least-square criterion in Gradient Boosting.\n",
      "  warnings.warn(\"criterion='mae' was deprecated in version 0.24 and \"\n",
      "/Users/Negin/opt/anaconda3/lib/python3.8/site-packages/sklearn/ensemble/_gb.py:1118: FutureWarning: criterion='mae' was deprecated in version 0.24 and will be removed in version 1.1 (renaming of 0.26). Use criterion='friedman_mse' or 'mse' instead, as trees should use a least-square criterion in Gradient Boosting.\n",
      "  warnings.warn(\"criterion='mae' was deprecated in version 0.24 and \"\n",
      "/Users/Negin/opt/anaconda3/lib/python3.8/site-packages/sklearn/ensemble/_gb.py:1118: FutureWarning: criterion='mae' was deprecated in version 0.24 and will be removed in version 1.1 (renaming of 0.26). Use criterion='friedman_mse' or 'mse' instead, as trees should use a least-square criterion in Gradient Boosting.\n",
      "  warnings.warn(\"criterion='mae' was deprecated in version 0.24 and \"\n",
      "/Users/Negin/opt/anaconda3/lib/python3.8/site-packages/sklearn/model_selection/_validation.py:610: FitFailedWarning: Estimator fit failed. The score on this train-test partition for these parameters will be set to nan. Details: \n",
      "Traceback (most recent call last):\n",
      "  File \"/Users/Negin/opt/anaconda3/lib/python3.8/site-packages/sklearn/model_selection/_validation.py\", line 593, in _fit_and_score\n",
      "    estimator.fit(X_train, y_train, **fit_params)\n",
      "  File \"/Users/Negin/opt/anaconda3/lib/python3.8/site-packages/sklearn/ensemble/_gb.py\", line 504, in fit\n",
      "    n_stages = self._fit_stages(\n",
      "  File \"/Users/Negin/opt/anaconda3/lib/python3.8/site-packages/sklearn/ensemble/_gb.py\", line 561, in _fit_stages\n",
      "    raw_predictions = self._fit_stage(\n",
      "  File \"/Users/Negin/opt/anaconda3/lib/python3.8/site-packages/sklearn/ensemble/_gb.py\", line 214, in _fit_stage\n",
      "    tree.fit(X, residual, sample_weight=sample_weight,\n",
      "  File \"/Users/Negin/opt/anaconda3/lib/python3.8/site-packages/sklearn/tree/_classes.py\", line 1247, in fit\n",
      "    super().fit(\n",
      "  File \"/Users/Negin/opt/anaconda3/lib/python3.8/site-packages/sklearn/tree/_classes.py\", line 350, in fit\n",
      "    criterion = CRITERIA_REG[self.criterion](self.n_outputs_,\n",
      "KeyError: 'squared_error'\n",
      "\n",
      "  warnings.warn(\"Estimator fit failed. The score on this train-test\"\n",
      "/Users/Negin/opt/anaconda3/lib/python3.8/site-packages/sklearn/model_selection/_validation.py:610: FitFailedWarning: Estimator fit failed. The score on this train-test partition for these parameters will be set to nan. Details: \n",
      "Traceback (most recent call last):\n",
      "  File \"/Users/Negin/opt/anaconda3/lib/python3.8/site-packages/sklearn/model_selection/_validation.py\", line 593, in _fit_and_score\n",
      "    estimator.fit(X_train, y_train, **fit_params)\n",
      "  File \"/Users/Negin/opt/anaconda3/lib/python3.8/site-packages/sklearn/ensemble/_gb.py\", line 504, in fit\n",
      "    n_stages = self._fit_stages(\n",
      "  File \"/Users/Negin/opt/anaconda3/lib/python3.8/site-packages/sklearn/ensemble/_gb.py\", line 561, in _fit_stages\n",
      "    raw_predictions = self._fit_stage(\n",
      "  File \"/Users/Negin/opt/anaconda3/lib/python3.8/site-packages/sklearn/ensemble/_gb.py\", line 214, in _fit_stage\n",
      "    tree.fit(X, residual, sample_weight=sample_weight,\n",
      "  File \"/Users/Negin/opt/anaconda3/lib/python3.8/site-packages/sklearn/tree/_classes.py\", line 1247, in fit\n",
      "    super().fit(\n",
      "  File \"/Users/Negin/opt/anaconda3/lib/python3.8/site-packages/sklearn/tree/_classes.py\", line 350, in fit\n",
      "    criterion = CRITERIA_REG[self.criterion](self.n_outputs_,\n",
      "KeyError: 'squared_error'\n",
      "\n",
      "  warnings.warn(\"Estimator fit failed. The score on this train-test\"\n",
      "/Users/Negin/opt/anaconda3/lib/python3.8/site-packages/sklearn/model_selection/_validation.py:610: FitFailedWarning: Estimator fit failed. The score on this train-test partition for these parameters will be set to nan. Details: \n",
      "Traceback (most recent call last):\n",
      "  File \"/Users/Negin/opt/anaconda3/lib/python3.8/site-packages/sklearn/model_selection/_validation.py\", line 593, in _fit_and_score\n",
      "    estimator.fit(X_train, y_train, **fit_params)\n",
      "  File \"/Users/Negin/opt/anaconda3/lib/python3.8/site-packages/sklearn/ensemble/_gb.py\", line 504, in fit\n",
      "    n_stages = self._fit_stages(\n",
      "  File \"/Users/Negin/opt/anaconda3/lib/python3.8/site-packages/sklearn/ensemble/_gb.py\", line 561, in _fit_stages\n",
      "    raw_predictions = self._fit_stage(\n",
      "  File \"/Users/Negin/opt/anaconda3/lib/python3.8/site-packages/sklearn/ensemble/_gb.py\", line 214, in _fit_stage\n",
      "    tree.fit(X, residual, sample_weight=sample_weight,\n",
      "  File \"/Users/Negin/opt/anaconda3/lib/python3.8/site-packages/sklearn/tree/_classes.py\", line 1247, in fit\n",
      "    super().fit(\n",
      "  File \"/Users/Negin/opt/anaconda3/lib/python3.8/site-packages/sklearn/tree/_classes.py\", line 350, in fit\n",
      "    criterion = CRITERIA_REG[self.criterion](self.n_outputs_,\n",
      "KeyError: 'squared_error'\n",
      "\n",
      "  warnings.warn(\"Estimator fit failed. The score on this train-test\"\n",
      "/Users/Negin/opt/anaconda3/lib/python3.8/site-packages/sklearn/model_selection/_validation.py:610: FitFailedWarning: Estimator fit failed. The score on this train-test partition for these parameters will be set to nan. Details: \n",
      "Traceback (most recent call last):\n",
      "  File \"/Users/Negin/opt/anaconda3/lib/python3.8/site-packages/sklearn/model_selection/_validation.py\", line 593, in _fit_and_score\n",
      "    estimator.fit(X_train, y_train, **fit_params)\n",
      "  File \"/Users/Negin/opt/anaconda3/lib/python3.8/site-packages/sklearn/ensemble/_gb.py\", line 504, in fit\n",
      "    n_stages = self._fit_stages(\n",
      "  File \"/Users/Negin/opt/anaconda3/lib/python3.8/site-packages/sklearn/ensemble/_gb.py\", line 561, in _fit_stages\n",
      "    raw_predictions = self._fit_stage(\n",
      "  File \"/Users/Negin/opt/anaconda3/lib/python3.8/site-packages/sklearn/ensemble/_gb.py\", line 214, in _fit_stage\n",
      "    tree.fit(X, residual, sample_weight=sample_weight,\n",
      "  File \"/Users/Negin/opt/anaconda3/lib/python3.8/site-packages/sklearn/tree/_classes.py\", line 1247, in fit\n",
      "    super().fit(\n",
      "  File \"/Users/Negin/opt/anaconda3/lib/python3.8/site-packages/sklearn/tree/_classes.py\", line 350, in fit\n",
      "    criterion = CRITERIA_REG[self.criterion](self.n_outputs_,\n",
      "KeyError: 'squared_error'\n",
      "\n",
      "  warnings.warn(\"Estimator fit failed. The score on this train-test\"\n",
      "/Users/Negin/opt/anaconda3/lib/python3.8/site-packages/sklearn/model_selection/_validation.py:610: FitFailedWarning: Estimator fit failed. The score on this train-test partition for these parameters will be set to nan. Details: \n",
      "Traceback (most recent call last):\n",
      "  File \"/Users/Negin/opt/anaconda3/lib/python3.8/site-packages/sklearn/model_selection/_validation.py\", line 593, in _fit_and_score\n",
      "    estimator.fit(X_train, y_train, **fit_params)\n",
      "  File \"/Users/Negin/opt/anaconda3/lib/python3.8/site-packages/sklearn/ensemble/_gb.py\", line 504, in fit\n",
      "    n_stages = self._fit_stages(\n",
      "  File \"/Users/Negin/opt/anaconda3/lib/python3.8/site-packages/sklearn/ensemble/_gb.py\", line 561, in _fit_stages\n",
      "    raw_predictions = self._fit_stage(\n",
      "  File \"/Users/Negin/opt/anaconda3/lib/python3.8/site-packages/sklearn/ensemble/_gb.py\", line 214, in _fit_stage\n",
      "    tree.fit(X, residual, sample_weight=sample_weight,\n",
      "  File \"/Users/Negin/opt/anaconda3/lib/python3.8/site-packages/sklearn/tree/_classes.py\", line 1247, in fit\n",
      "    super().fit(\n",
      "  File \"/Users/Negin/opt/anaconda3/lib/python3.8/site-packages/sklearn/tree/_classes.py\", line 350, in fit\n",
      "    criterion = CRITERIA_REG[self.criterion](self.n_outputs_,\n",
      "KeyError: 'squared_error'\n",
      "\n",
      "  warnings.warn(\"Estimator fit failed. The score on this train-test\"\n",
      "/Users/Negin/opt/anaconda3/lib/python3.8/site-packages/sklearn/model_selection/_validation.py:610: FitFailedWarning: Estimator fit failed. The score on this train-test partition for these parameters will be set to nan. Details: \n",
      "Traceback (most recent call last):\n",
      "  File \"/Users/Negin/opt/anaconda3/lib/python3.8/site-packages/sklearn/model_selection/_validation.py\", line 593, in _fit_and_score\n",
      "    estimator.fit(X_train, y_train, **fit_params)\n",
      "  File \"/Users/Negin/opt/anaconda3/lib/python3.8/site-packages/sklearn/ensemble/_gb.py\", line 504, in fit\n",
      "    n_stages = self._fit_stages(\n",
      "  File \"/Users/Negin/opt/anaconda3/lib/python3.8/site-packages/sklearn/ensemble/_gb.py\", line 561, in _fit_stages\n",
      "    raw_predictions = self._fit_stage(\n",
      "  File \"/Users/Negin/opt/anaconda3/lib/python3.8/site-packages/sklearn/ensemble/_gb.py\", line 214, in _fit_stage\n",
      "    tree.fit(X, residual, sample_weight=sample_weight,\n",
      "  File \"/Users/Negin/opt/anaconda3/lib/python3.8/site-packages/sklearn/tree/_classes.py\", line 1247, in fit\n",
      "    super().fit(\n",
      "  File \"/Users/Negin/opt/anaconda3/lib/python3.8/site-packages/sklearn/tree/_classes.py\", line 350, in fit\n",
      "    criterion = CRITERIA_REG[self.criterion](self.n_outputs_,\n",
      "KeyError: 'squared_error'\n",
      "\n",
      "  warnings.warn(\"Estimator fit failed. The score on this train-test\"\n",
      "/Users/Negin/opt/anaconda3/lib/python3.8/site-packages/sklearn/model_selection/_validation.py:610: FitFailedWarning: Estimator fit failed. The score on this train-test partition for these parameters will be set to nan. Details: \n",
      "Traceback (most recent call last):\n",
      "  File \"/Users/Negin/opt/anaconda3/lib/python3.8/site-packages/sklearn/model_selection/_validation.py\", line 593, in _fit_and_score\n",
      "    estimator.fit(X_train, y_train, **fit_params)\n",
      "  File \"/Users/Negin/opt/anaconda3/lib/python3.8/site-packages/sklearn/ensemble/_gb.py\", line 504, in fit\n",
      "    n_stages = self._fit_stages(\n",
      "  File \"/Users/Negin/opt/anaconda3/lib/python3.8/site-packages/sklearn/ensemble/_gb.py\", line 561, in _fit_stages\n",
      "    raw_predictions = self._fit_stage(\n",
      "  File \"/Users/Negin/opt/anaconda3/lib/python3.8/site-packages/sklearn/ensemble/_gb.py\", line 214, in _fit_stage\n",
      "    tree.fit(X, residual, sample_weight=sample_weight,\n",
      "  File \"/Users/Negin/opt/anaconda3/lib/python3.8/site-packages/sklearn/tree/_classes.py\", line 1247, in fit\n",
      "    super().fit(\n",
      "  File \"/Users/Negin/opt/anaconda3/lib/python3.8/site-packages/sklearn/tree/_classes.py\", line 350, in fit\n",
      "    criterion = CRITERIA_REG[self.criterion](self.n_outputs_,\n",
      "KeyError: 'squared_error'\n",
      "\n",
      "  warnings.warn(\"Estimator fit failed. The score on this train-test\"\n",
      "/Users/Negin/opt/anaconda3/lib/python3.8/site-packages/sklearn/model_selection/_validation.py:610: FitFailedWarning: Estimator fit failed. The score on this train-test partition for these parameters will be set to nan. Details: \n",
      "Traceback (most recent call last):\n",
      "  File \"/Users/Negin/opt/anaconda3/lib/python3.8/site-packages/sklearn/model_selection/_validation.py\", line 593, in _fit_and_score\n",
      "    estimator.fit(X_train, y_train, **fit_params)\n",
      "  File \"/Users/Negin/opt/anaconda3/lib/python3.8/site-packages/sklearn/ensemble/_gb.py\", line 504, in fit\n",
      "    n_stages = self._fit_stages(\n",
      "  File \"/Users/Negin/opt/anaconda3/lib/python3.8/site-packages/sklearn/ensemble/_gb.py\", line 561, in _fit_stages\n",
      "    raw_predictions = self._fit_stage(\n",
      "  File \"/Users/Negin/opt/anaconda3/lib/python3.8/site-packages/sklearn/ensemble/_gb.py\", line 214, in _fit_stage\n",
      "    tree.fit(X, residual, sample_weight=sample_weight,\n",
      "  File \"/Users/Negin/opt/anaconda3/lib/python3.8/site-packages/sklearn/tree/_classes.py\", line 1247, in fit\n",
      "    super().fit(\n",
      "  File \"/Users/Negin/opt/anaconda3/lib/python3.8/site-packages/sklearn/tree/_classes.py\", line 350, in fit\n",
      "    criterion = CRITERIA_REG[self.criterion](self.n_outputs_,\n",
      "KeyError: 'squared_error'\n",
      "\n",
      "  warnings.warn(\"Estimator fit failed. The score on this train-test\"\n",
      "/Users/Negin/opt/anaconda3/lib/python3.8/site-packages/sklearn/model_selection/_validation.py:610: FitFailedWarning: Estimator fit failed. The score on this train-test partition for these parameters will be set to nan. Details: \n",
      "Traceback (most recent call last):\n",
      "  File \"/Users/Negin/opt/anaconda3/lib/python3.8/site-packages/sklearn/model_selection/_validation.py\", line 593, in _fit_and_score\n",
      "    estimator.fit(X_train, y_train, **fit_params)\n",
      "  File \"/Users/Negin/opt/anaconda3/lib/python3.8/site-packages/sklearn/ensemble/_gb.py\", line 504, in fit\n",
      "    n_stages = self._fit_stages(\n",
      "  File \"/Users/Negin/opt/anaconda3/lib/python3.8/site-packages/sklearn/ensemble/_gb.py\", line 561, in _fit_stages\n",
      "    raw_predictions = self._fit_stage(\n",
      "  File \"/Users/Negin/opt/anaconda3/lib/python3.8/site-packages/sklearn/ensemble/_gb.py\", line 214, in _fit_stage\n",
      "    tree.fit(X, residual, sample_weight=sample_weight,\n",
      "  File \"/Users/Negin/opt/anaconda3/lib/python3.8/site-packages/sklearn/tree/_classes.py\", line 1247, in fit\n",
      "    super().fit(\n",
      "  File \"/Users/Negin/opt/anaconda3/lib/python3.8/site-packages/sklearn/tree/_classes.py\", line 350, in fit\n",
      "    criterion = CRITERIA_REG[self.criterion](self.n_outputs_,\n",
      "KeyError: 'squared_error'\n",
      "\n",
      "  warnings.warn(\"Estimator fit failed. The score on this train-test\"\n",
      "/Users/Negin/opt/anaconda3/lib/python3.8/site-packages/sklearn/ensemble/_gb.py:1118: FutureWarning: criterion='mae' was deprecated in version 0.24 and will be removed in version 1.1 (renaming of 0.26). Use criterion='friedman_mse' or 'mse' instead, as trees should use a least-square criterion in Gradient Boosting.\n",
      "  warnings.warn(\"criterion='mae' was deprecated in version 0.24 and \"\n"
     ]
    },
    {
     "name": "stderr",
     "output_type": "stream",
     "text": [
      "/Users/Negin/opt/anaconda3/lib/python3.8/site-packages/sklearn/ensemble/_gb.py:1118: FutureWarning: criterion='mae' was deprecated in version 0.24 and will be removed in version 1.1 (renaming of 0.26). Use criterion='friedman_mse' or 'mse' instead, as trees should use a least-square criterion in Gradient Boosting.\n",
      "  warnings.warn(\"criterion='mae' was deprecated in version 0.24 and \"\n",
      "/Users/Negin/opt/anaconda3/lib/python3.8/site-packages/sklearn/ensemble/_gb.py:1118: FutureWarning: criterion='mae' was deprecated in version 0.24 and will be removed in version 1.1 (renaming of 0.26). Use criterion='friedman_mse' or 'mse' instead, as trees should use a least-square criterion in Gradient Boosting.\n",
      "  warnings.warn(\"criterion='mae' was deprecated in version 0.24 and \"\n",
      "/Users/Negin/opt/anaconda3/lib/python3.8/site-packages/sklearn/ensemble/_gb.py:1118: FutureWarning: criterion='mae' was deprecated in version 0.24 and will be removed in version 1.1 (renaming of 0.26). Use criterion='friedman_mse' or 'mse' instead, as trees should use a least-square criterion in Gradient Boosting.\n",
      "  warnings.warn(\"criterion='mae' was deprecated in version 0.24 and \"\n",
      "/Users/Negin/opt/anaconda3/lib/python3.8/site-packages/sklearn/ensemble/_gb.py:1118: FutureWarning: criterion='mae' was deprecated in version 0.24 and will be removed in version 1.1 (renaming of 0.26). Use criterion='friedman_mse' or 'mse' instead, as trees should use a least-square criterion in Gradient Boosting.\n",
      "  warnings.warn(\"criterion='mae' was deprecated in version 0.24 and \"\n",
      "/Users/Negin/opt/anaconda3/lib/python3.8/site-packages/sklearn/ensemble/_gb.py:1118: FutureWarning: criterion='mae' was deprecated in version 0.24 and will be removed in version 1.1 (renaming of 0.26). Use criterion='friedman_mse' or 'mse' instead, as trees should use a least-square criterion in Gradient Boosting.\n",
      "  warnings.warn(\"criterion='mae' was deprecated in version 0.24 and \"\n",
      "/Users/Negin/opt/anaconda3/lib/python3.8/site-packages/sklearn/ensemble/_gb.py:1118: FutureWarning: criterion='mae' was deprecated in version 0.24 and will be removed in version 1.1 (renaming of 0.26). Use criterion='friedman_mse' or 'mse' instead, as trees should use a least-square criterion in Gradient Boosting.\n",
      "  warnings.warn(\"criterion='mae' was deprecated in version 0.24 and \"\n",
      "/Users/Negin/opt/anaconda3/lib/python3.8/site-packages/sklearn/ensemble/_gb.py:1118: FutureWarning: criterion='mae' was deprecated in version 0.24 and will be removed in version 1.1 (renaming of 0.26). Use criterion='friedman_mse' or 'mse' instead, as trees should use a least-square criterion in Gradient Boosting.\n",
      "  warnings.warn(\"criterion='mae' was deprecated in version 0.24 and \"\n",
      "/Users/Negin/opt/anaconda3/lib/python3.8/site-packages/sklearn/ensemble/_gb.py:1118: FutureWarning: criterion='mae' was deprecated in version 0.24 and will be removed in version 1.1 (renaming of 0.26). Use criterion='friedman_mse' or 'mse' instead, as trees should use a least-square criterion in Gradient Boosting.\n",
      "  warnings.warn(\"criterion='mae' was deprecated in version 0.24 and \"\n",
      "/Users/Negin/opt/anaconda3/lib/python3.8/site-packages/sklearn/ensemble/_gb.py:1118: FutureWarning: criterion='mae' was deprecated in version 0.24 and will be removed in version 1.1 (renaming of 0.26). Use criterion='friedman_mse' or 'mse' instead, as trees should use a least-square criterion in Gradient Boosting.\n",
      "  warnings.warn(\"criterion='mae' was deprecated in version 0.24 and \"\n",
      "/Users/Negin/opt/anaconda3/lib/python3.8/site-packages/sklearn/ensemble/_gb.py:1118: FutureWarning: criterion='mae' was deprecated in version 0.24 and will be removed in version 1.1 (renaming of 0.26). Use criterion='friedman_mse' or 'mse' instead, as trees should use a least-square criterion in Gradient Boosting.\n",
      "  warnings.warn(\"criterion='mae' was deprecated in version 0.24 and \"\n",
      "/Users/Negin/opt/anaconda3/lib/python3.8/site-packages/sklearn/ensemble/_gb.py:1118: FutureWarning: criterion='mae' was deprecated in version 0.24 and will be removed in version 1.1 (renaming of 0.26). Use criterion='friedman_mse' or 'mse' instead, as trees should use a least-square criterion in Gradient Boosting.\n",
      "  warnings.warn(\"criterion='mae' was deprecated in version 0.24 and \"\n",
      "/Users/Negin/opt/anaconda3/lib/python3.8/site-packages/sklearn/ensemble/_gb.py:1118: FutureWarning: criterion='mae' was deprecated in version 0.24 and will be removed in version 1.1 (renaming of 0.26). Use criterion='friedman_mse' or 'mse' instead, as trees should use a least-square criterion in Gradient Boosting.\n",
      "  warnings.warn(\"criterion='mae' was deprecated in version 0.24 and \"\n",
      "/Users/Negin/opt/anaconda3/lib/python3.8/site-packages/sklearn/ensemble/_gb.py:1118: FutureWarning: criterion='mae' was deprecated in version 0.24 and will be removed in version 1.1 (renaming of 0.26). Use criterion='friedman_mse' or 'mse' instead, as trees should use a least-square criterion in Gradient Boosting.\n",
      "  warnings.warn(\"criterion='mae' was deprecated in version 0.24 and \"\n",
      "/Users/Negin/opt/anaconda3/lib/python3.8/site-packages/sklearn/ensemble/_gb.py:1118: FutureWarning: criterion='mae' was deprecated in version 0.24 and will be removed in version 1.1 (renaming of 0.26). Use criterion='friedman_mse' or 'mse' instead, as trees should use a least-square criterion in Gradient Boosting.\n",
      "  warnings.warn(\"criterion='mae' was deprecated in version 0.24 and \"\n",
      "/Users/Negin/opt/anaconda3/lib/python3.8/site-packages/sklearn/ensemble/_gb.py:1118: FutureWarning: criterion='mae' was deprecated in version 0.24 and will be removed in version 1.1 (renaming of 0.26). Use criterion='friedman_mse' or 'mse' instead, as trees should use a least-square criterion in Gradient Boosting.\n",
      "  warnings.warn(\"criterion='mae' was deprecated in version 0.24 and \"\n",
      "/Users/Negin/opt/anaconda3/lib/python3.8/site-packages/sklearn/ensemble/_gb.py:1118: FutureWarning: criterion='mae' was deprecated in version 0.24 and will be removed in version 1.1 (renaming of 0.26). Use criterion='friedman_mse' or 'mse' instead, as trees should use a least-square criterion in Gradient Boosting.\n",
      "  warnings.warn(\"criterion='mae' was deprecated in version 0.24 and \"\n",
      "/Users/Negin/opt/anaconda3/lib/python3.8/site-packages/sklearn/ensemble/_gb.py:1118: FutureWarning: criterion='mae' was deprecated in version 0.24 and will be removed in version 1.1 (renaming of 0.26). Use criterion='friedman_mse' or 'mse' instead, as trees should use a least-square criterion in Gradient Boosting.\n",
      "  warnings.warn(\"criterion='mae' was deprecated in version 0.24 and \"\n",
      "/Users/Negin/opt/anaconda3/lib/python3.8/site-packages/sklearn/model_selection/_validation.py:610: FitFailedWarning: Estimator fit failed. The score on this train-test partition for these parameters will be set to nan. Details: \n",
      "Traceback (most recent call last):\n",
      "  File \"/Users/Negin/opt/anaconda3/lib/python3.8/site-packages/sklearn/model_selection/_validation.py\", line 593, in _fit_and_score\n",
      "    estimator.fit(X_train, y_train, **fit_params)\n",
      "  File \"/Users/Negin/opt/anaconda3/lib/python3.8/site-packages/sklearn/ensemble/_gb.py\", line 504, in fit\n",
      "    n_stages = self._fit_stages(\n",
      "  File \"/Users/Negin/opt/anaconda3/lib/python3.8/site-packages/sklearn/ensemble/_gb.py\", line 561, in _fit_stages\n",
      "    raw_predictions = self._fit_stage(\n",
      "  File \"/Users/Negin/opt/anaconda3/lib/python3.8/site-packages/sklearn/ensemble/_gb.py\", line 214, in _fit_stage\n",
      "    tree.fit(X, residual, sample_weight=sample_weight,\n",
      "  File \"/Users/Negin/opt/anaconda3/lib/python3.8/site-packages/sklearn/tree/_classes.py\", line 1247, in fit\n",
      "    super().fit(\n",
      "  File \"/Users/Negin/opt/anaconda3/lib/python3.8/site-packages/sklearn/tree/_classes.py\", line 350, in fit\n",
      "    criterion = CRITERIA_REG[self.criterion](self.n_outputs_,\n",
      "KeyError: 'squared_error'\n",
      "\n",
      "  warnings.warn(\"Estimator fit failed. The score on this train-test\"\n",
      "/Users/Negin/opt/anaconda3/lib/python3.8/site-packages/sklearn/model_selection/_validation.py:610: FitFailedWarning: Estimator fit failed. The score on this train-test partition for these parameters will be set to nan. Details: \n",
      "Traceback (most recent call last):\n",
      "  File \"/Users/Negin/opt/anaconda3/lib/python3.8/site-packages/sklearn/model_selection/_validation.py\", line 593, in _fit_and_score\n",
      "    estimator.fit(X_train, y_train, **fit_params)\n",
      "  File \"/Users/Negin/opt/anaconda3/lib/python3.8/site-packages/sklearn/ensemble/_gb.py\", line 504, in fit\n",
      "    n_stages = self._fit_stages(\n",
      "  File \"/Users/Negin/opt/anaconda3/lib/python3.8/site-packages/sklearn/ensemble/_gb.py\", line 561, in _fit_stages\n",
      "    raw_predictions = self._fit_stage(\n",
      "  File \"/Users/Negin/opt/anaconda3/lib/python3.8/site-packages/sklearn/ensemble/_gb.py\", line 214, in _fit_stage\n",
      "    tree.fit(X, residual, sample_weight=sample_weight,\n",
      "  File \"/Users/Negin/opt/anaconda3/lib/python3.8/site-packages/sklearn/tree/_classes.py\", line 1247, in fit\n",
      "    super().fit(\n",
      "  File \"/Users/Negin/opt/anaconda3/lib/python3.8/site-packages/sklearn/tree/_classes.py\", line 350, in fit\n",
      "    criterion = CRITERIA_REG[self.criterion](self.n_outputs_,\n",
      "KeyError: 'squared_error'\n",
      "\n",
      "  warnings.warn(\"Estimator fit failed. The score on this train-test\"\n",
      "/Users/Negin/opt/anaconda3/lib/python3.8/site-packages/sklearn/model_selection/_validation.py:610: FitFailedWarning: Estimator fit failed. The score on this train-test partition for these parameters will be set to nan. Details: \n",
      "Traceback (most recent call last):\n",
      "  File \"/Users/Negin/opt/anaconda3/lib/python3.8/site-packages/sklearn/model_selection/_validation.py\", line 593, in _fit_and_score\n",
      "    estimator.fit(X_train, y_train, **fit_params)\n",
      "  File \"/Users/Negin/opt/anaconda3/lib/python3.8/site-packages/sklearn/ensemble/_gb.py\", line 504, in fit\n",
      "    n_stages = self._fit_stages(\n",
      "  File \"/Users/Negin/opt/anaconda3/lib/python3.8/site-packages/sklearn/ensemble/_gb.py\", line 561, in _fit_stages\n",
      "    raw_predictions = self._fit_stage(\n",
      "  File \"/Users/Negin/opt/anaconda3/lib/python3.8/site-packages/sklearn/ensemble/_gb.py\", line 214, in _fit_stage\n",
      "    tree.fit(X, residual, sample_weight=sample_weight,\n",
      "  File \"/Users/Negin/opt/anaconda3/lib/python3.8/site-packages/sklearn/tree/_classes.py\", line 1247, in fit\n",
      "    super().fit(\n",
      "  File \"/Users/Negin/opt/anaconda3/lib/python3.8/site-packages/sklearn/tree/_classes.py\", line 350, in fit\n",
      "    criterion = CRITERIA_REG[self.criterion](self.n_outputs_,\n",
      "KeyError: 'squared_error'\n",
      "\n",
      "  warnings.warn(\"Estimator fit failed. The score on this train-test\"\n",
      "/Users/Negin/opt/anaconda3/lib/python3.8/site-packages/sklearn/model_selection/_validation.py:610: FitFailedWarning: Estimator fit failed. The score on this train-test partition for these parameters will be set to nan. Details: \n",
      "Traceback (most recent call last):\n",
      "  File \"/Users/Negin/opt/anaconda3/lib/python3.8/site-packages/sklearn/model_selection/_validation.py\", line 593, in _fit_and_score\n",
      "    estimator.fit(X_train, y_train, **fit_params)\n",
      "  File \"/Users/Negin/opt/anaconda3/lib/python3.8/site-packages/sklearn/ensemble/_gb.py\", line 504, in fit\n",
      "    n_stages = self._fit_stages(\n",
      "  File \"/Users/Negin/opt/anaconda3/lib/python3.8/site-packages/sklearn/ensemble/_gb.py\", line 561, in _fit_stages\n",
      "    raw_predictions = self._fit_stage(\n",
      "  File \"/Users/Negin/opt/anaconda3/lib/python3.8/site-packages/sklearn/ensemble/_gb.py\", line 214, in _fit_stage\n",
      "    tree.fit(X, residual, sample_weight=sample_weight,\n",
      "  File \"/Users/Negin/opt/anaconda3/lib/python3.8/site-packages/sklearn/tree/_classes.py\", line 1247, in fit\n",
      "    super().fit(\n",
      "  File \"/Users/Negin/opt/anaconda3/lib/python3.8/site-packages/sklearn/tree/_classes.py\", line 350, in fit\n",
      "    criterion = CRITERIA_REG[self.criterion](self.n_outputs_,\n",
      "KeyError: 'squared_error'\n",
      "\n",
      "  warnings.warn(\"Estimator fit failed. The score on this train-test\"\n",
      "/Users/Negin/opt/anaconda3/lib/python3.8/site-packages/sklearn/model_selection/_validation.py:610: FitFailedWarning: Estimator fit failed. The score on this train-test partition for these parameters will be set to nan. Details: \n",
      "Traceback (most recent call last):\n",
      "  File \"/Users/Negin/opt/anaconda3/lib/python3.8/site-packages/sklearn/model_selection/_validation.py\", line 593, in _fit_and_score\n",
      "    estimator.fit(X_train, y_train, **fit_params)\n",
      "  File \"/Users/Negin/opt/anaconda3/lib/python3.8/site-packages/sklearn/ensemble/_gb.py\", line 504, in fit\n",
      "    n_stages = self._fit_stages(\n",
      "  File \"/Users/Negin/opt/anaconda3/lib/python3.8/site-packages/sklearn/ensemble/_gb.py\", line 561, in _fit_stages\n",
      "    raw_predictions = self._fit_stage(\n",
      "  File \"/Users/Negin/opt/anaconda3/lib/python3.8/site-packages/sklearn/ensemble/_gb.py\", line 214, in _fit_stage\n",
      "    tree.fit(X, residual, sample_weight=sample_weight,\n",
      "  File \"/Users/Negin/opt/anaconda3/lib/python3.8/site-packages/sklearn/tree/_classes.py\", line 1247, in fit\n",
      "    super().fit(\n",
      "  File \"/Users/Negin/opt/anaconda3/lib/python3.8/site-packages/sklearn/tree/_classes.py\", line 350, in fit\n",
      "    criterion = CRITERIA_REG[self.criterion](self.n_outputs_,\n",
      "KeyError: 'squared_error'\n",
      "\n",
      "  warnings.warn(\"Estimator fit failed. The score on this train-test\"\n",
      "/Users/Negin/opt/anaconda3/lib/python3.8/site-packages/sklearn/model_selection/_validation.py:610: FitFailedWarning: Estimator fit failed. The score on this train-test partition for these parameters will be set to nan. Details: \n",
      "Traceback (most recent call last):\n",
      "  File \"/Users/Negin/opt/anaconda3/lib/python3.8/site-packages/sklearn/model_selection/_validation.py\", line 593, in _fit_and_score\n",
      "    estimator.fit(X_train, y_train, **fit_params)\n",
      "  File \"/Users/Negin/opt/anaconda3/lib/python3.8/site-packages/sklearn/ensemble/_gb.py\", line 504, in fit\n",
      "    n_stages = self._fit_stages(\n",
      "  File \"/Users/Negin/opt/anaconda3/lib/python3.8/site-packages/sklearn/ensemble/_gb.py\", line 561, in _fit_stages\n",
      "    raw_predictions = self._fit_stage(\n",
      "  File \"/Users/Negin/opt/anaconda3/lib/python3.8/site-packages/sklearn/ensemble/_gb.py\", line 214, in _fit_stage\n",
      "    tree.fit(X, residual, sample_weight=sample_weight,\n",
      "  File \"/Users/Negin/opt/anaconda3/lib/python3.8/site-packages/sklearn/tree/_classes.py\", line 1247, in fit\n",
      "    super().fit(\n",
      "  File \"/Users/Negin/opt/anaconda3/lib/python3.8/site-packages/sklearn/tree/_classes.py\", line 350, in fit\n",
      "    criterion = CRITERIA_REG[self.criterion](self.n_outputs_,\n",
      "KeyError: 'squared_error'\n",
      "\n",
      "  warnings.warn(\"Estimator fit failed. The score on this train-test\"\n",
      "/Users/Negin/opt/anaconda3/lib/python3.8/site-packages/sklearn/model_selection/_validation.py:610: FitFailedWarning: Estimator fit failed. The score on this train-test partition for these parameters will be set to nan. Details: \n",
      "Traceback (most recent call last):\n",
      "  File \"/Users/Negin/opt/anaconda3/lib/python3.8/site-packages/sklearn/model_selection/_validation.py\", line 593, in _fit_and_score\n",
      "    estimator.fit(X_train, y_train, **fit_params)\n",
      "  File \"/Users/Negin/opt/anaconda3/lib/python3.8/site-packages/sklearn/ensemble/_gb.py\", line 504, in fit\n",
      "    n_stages = self._fit_stages(\n",
      "  File \"/Users/Negin/opt/anaconda3/lib/python3.8/site-packages/sklearn/ensemble/_gb.py\", line 561, in _fit_stages\n",
      "    raw_predictions = self._fit_stage(\n",
      "  File \"/Users/Negin/opt/anaconda3/lib/python3.8/site-packages/sklearn/ensemble/_gb.py\", line 214, in _fit_stage\n",
      "    tree.fit(X, residual, sample_weight=sample_weight,\n",
      "  File \"/Users/Negin/opt/anaconda3/lib/python3.8/site-packages/sklearn/tree/_classes.py\", line 1247, in fit\n",
      "    super().fit(\n",
      "  File \"/Users/Negin/opt/anaconda3/lib/python3.8/site-packages/sklearn/tree/_classes.py\", line 350, in fit\n",
      "    criterion = CRITERIA_REG[self.criterion](self.n_outputs_,\n",
      "KeyError: 'squared_error'\n",
      "\n",
      "  warnings.warn(\"Estimator fit failed. The score on this train-test\"\n",
      "/Users/Negin/opt/anaconda3/lib/python3.8/site-packages/sklearn/model_selection/_validation.py:610: FitFailedWarning: Estimator fit failed. The score on this train-test partition for these parameters will be set to nan. Details: \n",
      "Traceback (most recent call last):\n",
      "  File \"/Users/Negin/opt/anaconda3/lib/python3.8/site-packages/sklearn/model_selection/_validation.py\", line 593, in _fit_and_score\n",
      "    estimator.fit(X_train, y_train, **fit_params)\n",
      "  File \"/Users/Negin/opt/anaconda3/lib/python3.8/site-packages/sklearn/ensemble/_gb.py\", line 504, in fit\n",
      "    n_stages = self._fit_stages(\n",
      "  File \"/Users/Negin/opt/anaconda3/lib/python3.8/site-packages/sklearn/ensemble/_gb.py\", line 561, in _fit_stages\n",
      "    raw_predictions = self._fit_stage(\n",
      "  File \"/Users/Negin/opt/anaconda3/lib/python3.8/site-packages/sklearn/ensemble/_gb.py\", line 214, in _fit_stage\n",
      "    tree.fit(X, residual, sample_weight=sample_weight,\n",
      "  File \"/Users/Negin/opt/anaconda3/lib/python3.8/site-packages/sklearn/tree/_classes.py\", line 1247, in fit\n",
      "    super().fit(\n",
      "  File \"/Users/Negin/opt/anaconda3/lib/python3.8/site-packages/sklearn/tree/_classes.py\", line 350, in fit\n",
      "    criterion = CRITERIA_REG[self.criterion](self.n_outputs_,\n",
      "KeyError: 'squared_error'\n",
      "\n",
      "  warnings.warn(\"Estimator fit failed. The score on this train-test\"\n",
      "/Users/Negin/opt/anaconda3/lib/python3.8/site-packages/sklearn/model_selection/_validation.py:610: FitFailedWarning: Estimator fit failed. The score on this train-test partition for these parameters will be set to nan. Details: \n",
      "Traceback (most recent call last):\n",
      "  File \"/Users/Negin/opt/anaconda3/lib/python3.8/site-packages/sklearn/model_selection/_validation.py\", line 593, in _fit_and_score\n",
      "    estimator.fit(X_train, y_train, **fit_params)\n",
      "  File \"/Users/Negin/opt/anaconda3/lib/python3.8/site-packages/sklearn/ensemble/_gb.py\", line 504, in fit\n",
      "    n_stages = self._fit_stages(\n",
      "  File \"/Users/Negin/opt/anaconda3/lib/python3.8/site-packages/sklearn/ensemble/_gb.py\", line 561, in _fit_stages\n",
      "    raw_predictions = self._fit_stage(\n",
      "  File \"/Users/Negin/opt/anaconda3/lib/python3.8/site-packages/sklearn/ensemble/_gb.py\", line 214, in _fit_stage\n",
      "    tree.fit(X, residual, sample_weight=sample_weight,\n",
      "  File \"/Users/Negin/opt/anaconda3/lib/python3.8/site-packages/sklearn/tree/_classes.py\", line 1247, in fit\n",
      "    super().fit(\n",
      "  File \"/Users/Negin/opt/anaconda3/lib/python3.8/site-packages/sklearn/tree/_classes.py\", line 350, in fit\n",
      "    criterion = CRITERIA_REG[self.criterion](self.n_outputs_,\n",
      "KeyError: 'squared_error'\n",
      "\n",
      "  warnings.warn(\"Estimator fit failed. The score on this train-test\"\n"
     ]
    },
    {
     "name": "stderr",
     "output_type": "stream",
     "text": [
      "/Users/Negin/opt/anaconda3/lib/python3.8/site-packages/sklearn/model_selection/_search.py:918: UserWarning: One or more of the test scores are non-finite: [0.48623597        nan        nan 0.50188191 0.25856143        nan\n",
      " 0.14666375 0.49852635        nan 0.38760825]\n",
      "  warnings.warn(\n"
     ]
    }
   ],
   "source": [
    "gradient_boosting_clf = GradientBoostingClassifier()\n",
    "gradient_boosting_clf_random = RandomizedSearchCV(estimator = gradient_boosting_clf, \n",
    "                                                  param_distributions=gradient_boosting_clf_params, cv=9, \n",
    "                                                  scoring='f1')\n",
    "gradient_boosting_clf_random.fit(X_train_transformed, y_train)\n",
    "gradient_boosting_clf_random_best_params = ada_random.best_params_\n",
    "gradient_boosting_clf_best_score = ada_random.best_score_\n",
    "gradient_boosting_clf_random_predictions = ada_random.predict(X_test_transformed)\n",
    "gradient_boosting_clf_random_roc_auc = roc_auc_score(y_test, gradient_boosting_clf_random_predictions)\n",
    "gradient_boosting_clf_random_f1 = f1_score(y_test, gradient_boosting_clf_random_predictions)\n",
    "gradient_boosting_clf_random_accuracy = accuracy_score(y_test, gradient_boosting_clf_random_predictions)\n",
    "gradient_boosting_clf_random_confusion_matrix=confusion_matrix(y_test, gradient_boosting_clf_random_predictions)"
   ]
  },
  {
   "cell_type": "code",
   "execution_count": 59,
   "metadata": {},
   "outputs": [],
   "source": [
    "tabel_data.append([\"Gradient Boosted Trees\", gradient_boosting_clf_random_roc_auc, \n",
    "                   gradient_boosting_clf_random_f1, gradient_boosting_clf_random_accuracy, \n",
    "                   gradient_boosting_clf_best_score, gradient_boosting_clf_random_confusion_matrix])"
   ]
  },
  {
   "cell_type": "code",
   "execution_count": 60,
   "metadata": {},
   "outputs": [
    {
     "data": {
      "text/plain": [
       "{'n_estimators': 50, 'learning_rate': 1, 'algorithm': 'SAMME.R'}"
      ]
     },
     "execution_count": 60,
     "metadata": {},
     "output_type": "execute_result"
    }
   ],
   "source": [
    "gradient_boosting_clf_random_best_params"
   ]
  },
  {
   "cell_type": "code",
   "execution_count": 61,
   "metadata": {},
   "outputs": [
    {
     "name": "stdout",
     "output_type": "stream",
     "text": [
      "+----------------------------+-----------------+------------+------------+--------------+--------------------+\n",
      "| RandomizedSearchCV Model   |   ROC-AUC Score |   F1 Score |   Accuracy |   Best Score | Confusion Matrix   |\n",
      "+============================+=================+============+============+==============+====================+\n",
      "| Decision Tree              |        0.660085 |   0.480406 |   0.807679 |     0.480793 | [[4212  302]       |\n",
      "|                            |                 |            |            |              |  [ 825  521]]      |\n",
      "+----------------------------+-----------------+------------+------------+--------------+--------------------+\n",
      "| Random Forest              |        0.672805 |   0.504854 |   0.817235 |     0.510989 | [[4243  271]       |\n",
      "|                            |                 |            |            |              |  [ 800  546]]      |\n",
      "+----------------------------+-----------------+------------+------------+--------------+--------------------+\n",
      "| Ada Boost                  |        0.676246 |   0.511888 |   0.821331 |     0.513985 | [[4264  250]       |\n",
      "|                            |                 |            |            |              |  [ 797  549]]      |\n",
      "+----------------------------+-----------------+------------+------------+--------------+--------------------+\n",
      "| Extra Tree Classifier      |        0.676246 |   0.511888 |   0.821331 |     0.513985 | [[4264  250]       |\n",
      "|                            |                 |            |            |              |  [ 797  549]]      |\n",
      "+----------------------------+-----------------+------------+------------+--------------+--------------------+\n",
      "| Gradient Boosted Trees     |        0.676246 |   0.511888 |   0.821331 |     0.513985 | [[4264  250]       |\n",
      "|                            |                 |            |            |              |  [ 797  549]]      |\n",
      "+----------------------------+-----------------+------------+------------+--------------+--------------------+\n"
     ]
    }
   ],
   "source": [
    "print(tabulate(tabel_data, headers=head, tablefmt=\"grid\"))"
   ]
  },
  {
   "cell_type": "markdown",
   "metadata": {
    "colab_type": "text",
    "id": "qwyr2ulhPrg8"
   },
   "source": [
    "#### Question 4 (3 pts)\n",
    "\n",
    "Discuss and compare the results for the all past three questions. \n",
    "\n",
    "* How does changing hyperparms effect model performance? \n",
    "* Why do you think certain models performed better/worse? \n",
    "* How does this performance line up with known strengths/weakness of these models?"
   ]
  },
  {
   "cell_type": "markdown",
   "metadata": {
    "colab": {},
    "colab_type": "code",
    "id": "rqh_ejaVNHXW"
   },
   "source": [
    "Changing the hyperparametrs did change the performance of the models but changes were not that huge."
   ]
  },
  {
   "cell_type": "markdown",
   "metadata": {},
   "source": [
    "Depending on the way each decision trees is formed, the shape and result of the decision trees could differ a lot. The models that split the input by more important features first, usually have better results. Things like this could change the output of a decision tree a lot."
   ]
  },
  {
   "cell_type": "markdown",
   "metadata": {},
   "source": [
    "We know that decision trees can overfit easily, In all of our results, the models predicted zeros better than ones. Since our data is imbalanced and has more zeros, I think all of our models are overfit and the ratio of right-predicted-ones to wrong-predicted-ones is way less than the ratio of right-predicted-zeros to wrong-predicted-zeros."
   ]
  },
  {
   "cell_type": "code",
   "execution_count": null,
   "metadata": {},
   "outputs": [],
   "source": []
  }
 ],
 "metadata": {
  "colab": {
   "collapsed_sections": [],
   "name": "Assignment 4_modified.ipynb",
   "provenance": [],
   "version": "0.3.2"
  },
  "kernelspec": {
   "display_name": "Python 3",
   "language": "python",
   "name": "python3"
  },
  "language_info": {
   "codemirror_mode": {
    "name": "ipython",
    "version": 3
   },
   "file_extension": ".py",
   "mimetype": "text/x-python",
   "name": "python",
   "nbconvert_exporter": "python",
   "pygments_lexer": "ipython3",
   "version": "3.8.8"
  }
 },
 "nbformat": 4,
 "nbformat_minor": 1
}
